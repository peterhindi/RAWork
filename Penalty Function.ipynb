{
 "cells": [
  {
   "cell_type": "code",
   "execution_count": 2,
   "id": "c8dcf524-243c-4017-8982-abd455874134",
   "metadata": {},
   "outputs": [],
   "source": [
    "#Import packages\n",
    "using JuMP, Pkg, CSV, DataFrames, Statistics, Plots, Ipopt, Combinatorics, Distances, LinearAlgebra, AmplNLWriter, NBInclude\n"
   ]
  },
  {
   "cell_type": "code",
   "execution_count": 3,
   "id": "278524a0-fb2f-44c0-8194-69ea46c41792",
   "metadata": {},
   "outputs": [
    {
     "data": {
      "text/plain": [
       "penaltyfunction (generic function with 1 method)"
      ]
     },
     "execution_count": 3,
     "metadata": {},
     "output_type": "execute_result"
    }
   ],
   "source": [
    "function penaltyfunctt1(x)\n",
    "    summed_penalty = 0\n",
    "    for i in 1:4\n",
    "        for j in 1:4\n",
    "            for jprime in (j+1):4\n",
    "                summed_penalty+=x[i,j]*x[i,jprime]\n",
    "            end\n",
    "        end\n",
    "    end\n",
    "    return summed_penalty\n",
    "end\n",
    "\n",
    "function penaltyfunctt2(x)\n",
    "    summed_penalty = 0\n",
    "    for j in 1:4\n",
    "        for i in 1:4\n",
    "            for iprime = (i+1):4\n",
    "                summed_penalty+=x[i,j]*x[iprime,j]\n",
    "            end\n",
    "        end\n",
    "    end\n",
    "    return summed_penalty\n",
    "end    \n",
    "\n",
    "function penaltyfunctt3(x)\n",
    "    summed_penalty = 0\n",
    "    for i in 1:4\n",
    "        for j in 1:4\n",
    "            summed_penalty += (x[i,j] - x[j,i])^2\n",
    "        end\n",
    "    end\n",
    "    return summed_penalty\n",
    "end\n",
    "\n",
    "function penaltyfunctt4(x)\n",
    "    summed_penalty = 0\n",
    "    for i in 1:4\n",
    "        for j in 1:4\n",
    "            summed_penalty += x[i,j]*x[j,i]\n",
    "        end\n",
    "    end\n",
    "    return summed_penalty\n",
    "end\n",
    "    \n",
    "function penaltyfunction(x)\n",
    "    return penaltyfunctt4(x) + penaltyfunctt3(x) + penaltyfunctt2(x) + penaltyfunctt1(x)\n",
    "end"
   ]
  }
 ],
 "metadata": {
  "kernelspec": {
   "display_name": "Julia 1.10.2",
   "language": "julia",
   "name": "julia-1.10"
  },
  "language_info": {
   "file_extension": ".jl",
   "mimetype": "application/julia",
   "name": "julia",
   "version": "1.10.2"
  }
 },
 "nbformat": 4,
 "nbformat_minor": 5
}
