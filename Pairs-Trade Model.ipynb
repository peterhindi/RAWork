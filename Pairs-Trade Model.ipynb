{
 "cells": [
  {
   "cell_type": "code",
   "execution_count": 1,
   "id": "c832c31a-6984-477b-ac45-d389b0e1ed0e",
   "metadata": {
    "scrolled": true
   },
   "outputs": [],
   "source": [
    "#Import packages\n",
    "using JuMP, Pkg, CSV, DataFrames, Statistics, Plots, Ipopt, Combinatorics, Distances, LinearAlgebra, AmplNLWriter, NBInclude, Gurobi\n"
   ]
  },
  {
   "cell_type": "code",
   "execution_count": 2,
   "id": "5571c713-3151-406c-8bc2-e6b71cf9389a",
   "metadata": {},
   "outputs": [
    {
     "name": "stdout",
     "output_type": "stream",
     "text": [
      "[64578.1 70.13 3231.04 0.12186][64578.0 70.12 3231.03 0.12185][0.0 645079.7101061705 613470.6188530276 645779.7502762709; 645079.7101061705 0.0 31609.091253142866 700.0401701004009; 613470.6188530276 31609.091253142866 0.0 32309.131423243267; 645779.7502762709 700.0401701004009 32309.131423243267 0.0]-64507.87"
     ]
    }
   ],
   "source": [
    "@nbinclude(\"Similarity Factor & Bid-Ask Prices.ipynb\")\n",
    "@nbinclude(\"Cost Function.ipynb\")\n",
    "@nbinclude(\"Penalty Function.ipynb\")\n",
    "@nbinclude(\"Tabu List.ipynb\")\n"
   ]
  },
  {
   "cell_type": "code",
   "execution_count": 3,
   "id": "a6170074-b382-41a3-a3bf-312aebfc6b81",
   "metadata": {
    "scrolled": true
   },
   "outputs": [
    {
     "data": {
      "text/plain": [
       "4×4 Symmetric{Float64, Matrix{Float64}}:\n",
       " 0.0            6.4508e5      6.13471e5      6.4578e5\n",
       " 6.4508e5       0.0       31609.1          700.04\n",
       " 6.13471e5  31609.1           0.0        32309.1\n",
       " 6.4578e5     700.04      32309.1            0.0"
      ]
     },
     "execution_count": 3,
     "metadata": {},
     "output_type": "execute_result"
    }
   ],
   "source": [
    "#Variable imports\n",
    "bid_price_df = bid_price()\n",
    "ask_price_df = ask_price()\n",
    "similarity = similarityfactor()"
   ]
  },
  {
   "cell_type": "code",
   "execution_count": 21,
   "id": "db25faf7-d4ba-47c8-b2b8-943685da2731",
   "metadata": {},
   "outputs": [
    {
     "name": "stdout",
     "output_type": "stream",
     "text": [
      "Set parameter Username\n",
      "Academic license - for non-commercial use only - expires 2025-09-22\n",
      "Gurobi Optimizer version 11.0.2 build v11.0.2rc0 (win64 - Windows 11.0 (22631.2))\n",
      "\n",
      "CPU model: AMD Ryzen 9 5900X 12-Core Processor, instruction set [SSE2|AVX|AVX2]\n",
      "Thread count: 12 physical cores, 24 logical processors, using up to 24 threads\n",
      "\n",
      "Optimize a model with 0 rows, 25 columns and 0 nonzeros\n",
      "Model fingerprint: 0x6b6772c7\n",
      "Model has 135 quadratic objective terms\n",
      "Variable types: 0 continuous, 25 integer (25 binary)\n",
      "Coefficient statistics:\n",
      "  Matrix range     [0e+00, 0e+00]\n",
      "  Objective range  [5e+04, 4e+10]\n",
      "  QObjective range [2e+00, 4e+00]\n",
      "  Bounds range     [0e+00, 0e+00]\n",
      "  RHS range        [0e+00, 0e+00]\n",
      "Warning: Model contains large objective coefficients\n",
      "         Consider reformulating model or setting NumericFocus parameter\n",
      "         to avoid numerical issues.\n",
      "Found heuristic solution: objective 0.0000000\n",
      "Found heuristic solution: objective -1.21155e+11\n",
      "Presolve removed 0 rows and 25 columns\n",
      "Presolve time: 0.00s\n",
      "Presolve: All rows and columns removed\n",
      "\n",
      "Explored 0 nodes (0 simplex iterations) in 0.00 seconds (0.00 work units)\n",
      "Thread count was 1 (of 24 available processors)\n",
      "\n",
      "Solution count 2: -1.21155e+11 0 \n",
      "No other solutions better than -1.21155e+11\n",
      "\n",
      "Optimal solution found (tolerance 1.00e-04)\n",
      "Best objective -1.211547116075e+11, best bound -1.211547116075e+11, gap 0.0000%\n",
      "\n",
      "User-callback calls 87, time in user-callback 0.00 sec\n"
     ]
    },
    {
     "data": {
      "text/plain": [
       "* Solver : Gurobi\n",
       "\n",
       "* Status\n",
       "  Result count       : 2\n",
       "  Termination status : OPTIMAL\n",
       "  Message from the solver:\n",
       "  \"Model was solved to optimality (subject to tolerances), and an optimal solution is available.\"\n",
       "\n",
       "* Candidate solution (result #1)\n",
       "  Primal status      : FEASIBLE_POINT\n",
       "  Dual status        : NO_SOLUTION\n",
       "  Objective value    : -1.21155e+11\n",
       "  Objective bound    : -1.21155e+11\n",
       "  Relative gap       : 0.00000e+00\n",
       "  Dual objective value : -1.21155e+11\n",
       "  Primal solution :\n",
       "    x[1,1] : 0.00000e+00\n",
       "    x[1,2] : 1.00000e+00\n",
       "    x[1,3] : 1.00000e+00\n",
       "    x[1,4] : 1.00000e+00\n",
       "    x[1,5] : 0.00000e+00\n",
       "    x[2,1] : 0.00000e+00\n",
       "    x[2,2] : 0.00000e+00\n",
       "    x[2,3] : 0.00000e+00\n",
       "    x[2,4] : 1.00000e+00\n",
       "    x[2,5] : 0.00000e+00\n",
       "    x[3,1] : 0.00000e+00\n",
       "    x[3,2] : 1.00000e+00\n",
       "    x[3,3] : 0.00000e+00\n",
       "    x[3,4] : 1.00000e+00\n",
       "    x[3,5] : 0.00000e+00\n",
       "    x[4,1] : 0.00000e+00\n",
       "    x[4,2] : 0.00000e+00\n",
       "    x[4,3] : 0.00000e+00\n",
       "    x[4,4] : 0.00000e+00\n",
       "    x[4,5] : 0.00000e+00\n",
       "    x[5,1] : 0.00000e+00\n",
       "    x[5,2] : 0.00000e+00\n",
       "    x[5,3] : 0.00000e+00\n",
       "    x[5,4] : 0.00000e+00\n",
       "    x[5,5] : 0.00000e+00\n",
       "\n",
       "* Work counters\n",
       "  Solve time (sec)   : 9.99928e-04\n",
       "  Barrier iterations : 0\n",
       "  Node count         : 0\n"
      ]
     },
     "execution_count": 21,
     "metadata": {},
     "output_type": "execute_result"
    }
   ],
   "source": [
    "#Set hyperparameters\n",
    "mc = 1\n",
    "mp = 1\n",
    "\n",
    "#set summed_cost parameter to 0 as initial value\n",
    "summed_cost = 0;\n",
    "summed_penalty = 0;\n",
    "\n",
    "#Initialize our model:\n",
    "pairs_trading_model = Model(Gurobi.Optimizer)\n",
    "\n",
    "@variable(pairs_trading_model, x[i= 1:5, j=1:5], Bin)\n",
    "@objective(pairs_trading_model, Min, costfunct(x, similarity, ask_price_df, bid_price_df)*mc + penaltyfunction(x)*mp)\n",
    "optimize!(pairs_trading_model)\n",
    "solution_summary(pairs_trading_model; verbose = true)"
   ]
  },
  {
   "cell_type": "code",
   "execution_count": 5,
   "id": "5659ab9d-e17c-4c4d-b386-97b4bd83565a",
   "metadata": {},
   "outputs": [
    {
     "data": {
      "text/latex": [
       "$$ \\begin{aligned}\n",
       "\\min\\quad & x_{1,1}^2 - 2 x_{1,2}\\times x_{2,1} - 2 x_{1,3}\\times x_{3,1} - 2 x_{1,4}\\times x_{4,1} - 2 x_{1,5}\\times x_{5,1} + x_{2,2}^2 - 2 x_{2,3}\\times x_{3,2} - 2 x_{2,4}\\times x_{4,2} - 2 x_{2,5}\\times x_{5,2} + x_{3,3}^2 - 2 x_{3,4}\\times x_{4,3} - 2 x_{3,5}\\times x_{5,3} + x_{4,4}^2 - 2 x_{4,5}\\times x_{5,4} + x_{5,5}^2 + 2 x_{1,2}^2 + 2 x_{2,1}^2 + 2 x_{1,3}^2 + 2 x_{3,1}^2 + 2 x_{1,4}^2 + 2 x_{4,1}^2 + 2 x_{1,5}^2 + 2 x_{5,1}^2 + 2 x_{2,3}^2 + 2 x_{3,2}^2 + 2 x_{2,4}^2 + 2 x_{4,2}^2 + 2 x_{2,5}^2 + 2 x_{5,2}^2 + 2 x_{3,4}^2 + [[\\ldots\\text{75 terms omitted}\\ldots]] + x_{3,1}\\times x_{3,2} + x_{3,1}\\times x_{3,3} + x_{3,1}\\times x_{3,4} + x_{3,1}\\times x_{3,5} + x_{3,2}\\times x_{3,3} + x_{3,2}\\times x_{3,4} + x_{3,2}\\times x_{3,5} + x_{3,3}\\times x_{3,4} + x_{3,3}\\times x_{3,5} + x_{3,4}\\times x_{3,5} + x_{4,1}\\times x_{4,2} + x_{4,1}\\times x_{4,3} + x_{4,1}\\times x_{4,4} + x_{4,1}\\times x_{4,5} + x_{4,2}\\times x_{4,3} + x_{4,2}\\times x_{4,4} + x_{4,2}\\times x_{4,5} + x_{4,3}\\times x_{4,4} + x_{4,3}\\times x_{4,5} + x_{4,4}\\times x_{4,5} + x_{5,1}\\times x_{5,2} + x_{5,1}\\times x_{5,3} + x_{5,1}\\times x_{5,4} + x_{5,1}\\times x_{5,5} + x_{5,2}\\times x_{5,3} + x_{5,2}\\times x_{5,4} + x_{5,2}\\times x_{5,5} + x_{5,3}\\times x_{5,4} + x_{5,3}\\times x_{5,5} + x_{5,4}\\times x_{5,5} - 4.161271807916653e31 x_{1,2} - 3.7634557515951926e31 x_{1,3} - 4.170308601862065e31 x_{1,4} + 4.161278903793464e31 x_{2,1} + 9.991380872388435e28 x_{2,3} - 4.900150983231168e25 x_{2,4} + 3.763462499772e31 x_{3,1} - 9.991317654205929e28 x_{3,2} - 1.0438783571168647e29 x_{3,4} + 4.1703150603053475e31 x_{4,1} + 4.9008517234414385e25 x_{4,2} + 1.04388159126092e29 x_{4,3}\\\\\n",
       "\\text{Subject to} \\quad & x_{1,1} \\in \\{0, 1\\}\\\\\n",
       " & x_{2,1} \\in \\{0, 1\\}\\\\\n",
       " & x_{3,1} \\in \\{0, 1\\}\\\\\n",
       " & x_{4,1} \\in \\{0, 1\\}\\\\\n",
       " & x_{5,1} \\in \\{0, 1\\}\\\\\n",
       " & x_{1,2} \\in \\{0, 1\\}\\\\\n",
       " & x_{2,2} \\in \\{0, 1\\}\\\\\n",
       " & x_{3,2} \\in \\{0, 1\\}\\\\\n",
       " & x_{4,2} \\in \\{0, 1\\}\\\\\n",
       " & x_{5,2} \\in \\{0, 1\\}\\\\\n",
       " & x_{1,3} \\in \\{0, 1\\}\\\\\n",
       " & x_{2,3} \\in \\{0, 1\\}\\\\\n",
       " & x_{3,3} \\in \\{0, 1\\}\\\\\n",
       " & x_{4,3} \\in \\{0, 1\\}\\\\\n",
       " & x_{5,3} \\in \\{0, 1\\}\\\\\n",
       " & x_{1,4} \\in \\{0, 1\\}\\\\\n",
       " & x_{2,4} \\in \\{0, 1\\}\\\\\n",
       " & x_{3,4} \\in \\{0, 1\\}\\\\\n",
       " & x_{4,4} \\in \\{0, 1\\}\\\\\n",
       " & x_{5,4} \\in \\{0, 1\\}\\\\\n",
       " & x_{1,5} \\in \\{0, 1\\}\\\\\n",
       " & x_{2,5} \\in \\{0, 1\\}\\\\\n",
       " & x_{3,5} \\in \\{0, 1\\}\\\\\n",
       " & x_{4,5} \\in \\{0, 1\\}\\\\\n",
       " & x_{5,5} \\in \\{0, 1\\}\\\\\n",
       "\\end{aligned} $$"
      ]
     },
     "metadata": {},
     "output_type": "display_data"
    },
    {
     "name": "stdout",
     "output_type": "stream",
     "text": [
      "* Solver : Gurobi\n",
      "\n",
      "* Status\n",
      "  Result count       : 2\n",
      "  Termination status : OPTIMAL\n",
      "  Message from the solver:\n",
      "  \"Model was solved to optimality (subject to tolerances), and an optimal solution is available.\"\n",
      "\n",
      "* Candidate solution (result #1)\n",
      "  Primal status      : FEASIBLE_POINT\n",
      "  Dual status        : NO_SOLUTION\n",
      "  Objective value    : -1.21155e+32\n",
      "  Objective bound    : -1.21155e+32\n",
      "  Relative gap       : 0.00000e+00\n",
      "  Dual objective value : -1.21155e+32\n",
      "\n",
      "* Work counters\n",
      "  Solve time (sec)   : 9.99928e-04\n",
      "  Barrier iterations : 0\n",
      "  Node count         : 0\n",
      "true"
     ]
    }
   ],
   "source": [
    "print(pairs_trading_model)\n",
    "print(solution_summary(pairs_trading_model))\n",
    "print(is_solved_and_feasible(pairs_trading_model))"
   ]
  }
 ],
 "metadata": {
  "kernelspec": {
   "display_name": "Julia 1.10.4",
   "language": "julia",
   "name": "julia-1.10"
  },
  "language_info": {
   "file_extension": ".jl",
   "mimetype": "application/julia",
   "name": "julia",
   "version": "1.10.4"
  }
 },
 "nbformat": 4,
 "nbformat_minor": 5
}
