{
 "cells": [
  {
   "cell_type": "code",
   "execution_count": 6,
   "id": "c832c31a-6984-477b-ac45-d389b0e1ed0e",
   "metadata": {
    "scrolled": true
   },
   "outputs": [],
   "source": [
    "#Import packages\n",
    "using JuMP, Pkg, CSV, DataFrames, Statistics, Plots, Ipopt, Combinatorics, Distances, LinearAlgebra, AmplNLWriter, NBInclude\n"
   ]
  },
  {
   "cell_type": "code",
   "execution_count": 7,
   "id": "5571c713-3151-406c-8bc2-e6b71cf9389a",
   "metadata": {},
   "outputs": [
    {
     "data": {
      "text/plain": [
       "penaltyfunction (generic function with 1 method)"
      ]
     },
     "execution_count": 7,
     "metadata": {},
     "output_type": "execute_result"
    }
   ],
   "source": [
    "@nbinclude(\"Similarity Factor & Bid-Ask Prices.ipynb\")\n",
    "@nbinclude(\"Cost Function.ipynb\")\n",
    "@nbinclude(\"Penalty Function.ipynb\")\n",
    "#@nbinclude(\"Tabu List.ipynb\")\n"
   ]
  },
  {
   "cell_type": "code",
   "execution_count": 8,
   "id": "a6170074-b382-41a3-a3bf-312aebfc6b81",
   "metadata": {
    "scrolled": true
   },
   "outputs": [
    {
     "data": {
      "text/plain": [
       "4×4 Symmetric{Float64, Matrix{Float64}}:\n",
       " 0.0            6.4508e5      6.13471e5      6.4578e5\n",
       " 6.4508e5       0.0       31609.1          700.04\n",
       " 6.13471e5  31609.1           0.0        32309.1\n",
       " 6.4578e5     700.04      32309.1            0.0"
      ]
     },
     "execution_count": 8,
     "metadata": {},
     "output_type": "execute_result"
    }
   ],
   "source": [
    "#Variable imports\n",
    "bid_price_df = bid_price()\n",
    "ask_price_df = ask_price()\n",
    "similarity = similarityfactor()"
   ]
  },
  {
   "cell_type": "code",
   "execution_count": 11,
   "id": "db25faf7-d4ba-47c8-b2b8-943685da2731",
   "metadata": {},
   "outputs": [],
   "source": [
    "#Set hyperparameters\n",
    "mc = 1\n",
    "mp = 1\n",
    "\n",
    "#set summed_cost parameter to 0 as initial value\n",
    "summed_cost = 0;\n",
    "summed_penalty = 0;\n",
    "\n",
    "#Initialize our model:\n",
    "pairs_trading_model = JuMP.Model(() -> AmplNLWriter.Optimizer(\"octeract-engine\"))\n",
    "\n",
    "@variable(pairs_trading_model, x[i= 1:4, j=1:4], Bin)\n",
    "\n",
    "@objective(pairs_trading_model, Min, costfunct(x, similarity, ask_price_df, bid_price_df)*mc + penaltyfunction(x)*mp)\n",
    "optimize!(pairs_trading_model)\n",
    "#@objective(pairs_trading_model, Min, costfunct*mc+(penaltyfunctt1+penaltyfunctt2+penaltyfunctt3+penaltyfunctt4)*mp)"
   ]
  },
  {
   "cell_type": "code",
   "execution_count": null,
   "id": "5659ab9d-e17c-4c4d-b386-97b4bd83565a",
   "metadata": {},
   "outputs": [],
   "source": [
    "print(pairs_trading_model)\n",
    "print(solution_summary(pairs_trading_model))\n",
    "print(is_solved_and_feasible(pairs_trading_model))"
   ]
  }
 ],
 "metadata": {
  "kernelspec": {
   "display_name": "Julia 1.10.2",
   "language": "julia",
   "name": "julia-1.10"
  },
  "language_info": {
   "file_extension": ".jl",
   "mimetype": "application/julia",
   "name": "julia",
   "version": "1.10.2"
  }
 },
 "nbformat": 4,
 "nbformat_minor": 5
}
