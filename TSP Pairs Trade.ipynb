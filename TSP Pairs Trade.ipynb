{
 "cells": [
  {
   "cell_type": "code",
   "execution_count": 1,
   "id": "c832c31a-6984-477b-ac45-d389b0e1ed0e",
   "metadata": {
    "scrolled": true
   },
   "outputs": [],
   "source": [
    "#Import packages\n",
    "using JuMP, Pkg, CSV, DataFrames, Statistics, Plots, Ipopt, Combinatorics, Distances, LinearAlgebra, AmplNLWriter, NBInclude, Gurobi\n"
   ]
  },
  {
   "cell_type": "code",
   "execution_count": 2,
   "id": "5571c713-3151-406c-8bc2-e6b71cf9389a",
   "metadata": {},
   "outputs": [],
   "source": [
    "@nbinclude(\"Similarity Factor & Bid-Ask Prices.ipynb\")\n",
    "@nbinclude(\"Cost Function.ipynb\")\n",
    "@nbinclude(\"Penalty Function.ipynb\")\n",
    "@nbinclude(\"Tabu List.ipynb\")\n"
   ]
  },
  {
   "cell_type": "code",
   "execution_count": 3,
   "id": "a6170074-b382-41a3-a3bf-312aebfc6b81",
   "metadata": {
    "scrolled": true
   },
   "outputs": [
    {
     "data": {
      "text/plain": [
       "4×4 Symmetric{Float64, Matrix{Float64}}:\n",
       " 0.0            6.4508e5      6.13471e5      6.4578e5\n",
       " 6.4508e5       0.0       31609.1          700.04\n",
       " 6.13471e5  31609.1           0.0        32309.1\n",
       " 6.4578e5     700.04      32309.1            0.0"
      ]
     },
     "execution_count": 3,
     "metadata": {},
     "output_type": "execute_result"
    }
   ],
   "source": [
    "#Variable imports\n",
    "bid_price_df = bid_price()\n",
    "ask_price_df = ask_price()\n",
    "similarity = similarityfactor()"
   ]
  },
  {
   "cell_type": "code",
   "execution_count": 15,
   "id": "db25faf7-d4ba-47c8-b2b8-943685da2731",
   "metadata": {},
   "outputs": [
    {
     "name": "stdout",
     "output_type": "stream",
     "text": [
      "Set parameter Username\n",
      "Academic license - for non-commercial use only - expires 2025-09-22\n",
      "Gurobi Optimizer version 11.0.2 build v11.0.2rc0 (win64 - Windows 11.0 (22631.2))\n",
      "\n",
      "CPU model: AMD Ryzen 9 5900X 12-Core Processor, instruction set [SSE2|AVX|AVX2]\n",
      "Thread count: 12 physical cores, 24 logical processors, using up to 24 threads\n",
      "\n",
      "Optimize a model with 15 rows, 25 columns and 90 nonzeros\n",
      "Model fingerprint: 0x0418a1f0\n",
      "Variable types: 0 continuous, 25 integer (25 binary)\n",
      "Coefficient statistics:\n",
      "  Matrix range     [1e+00, 1e+00]\n",
      "  Objective range  [5e+04, 4e+10]\n",
      "  Bounds range     [0e+00, 0e+00]\n",
      "  RHS range        [1e+00, 1e+00]\n",
      "Warning: Model contains large objective coefficients\n",
      "         Consider reformulating model or setting NumericFocus parameter\n",
      "         to avoid numerical issues.\n",
      "Found heuristic solution: objective 0.0000000\n",
      "Presolve removed 0 rows and 4 columns\n",
      "Presolve time: 0.00s\n",
      "Presolved: 15 rows, 21 columns, 82 nonzeros\n",
      "Variable types: 0 continuous, 21 integer (21 binary)\n",
      "\n",
      "Root relaxation: objective -4.170309e+10, 6 iterations, 0.00 seconds (0.00 work units)\n",
      "\n",
      "    Nodes    |    Current Node    |     Objective Bounds      |     Work\n",
      " Expl Unexpl |  Obj  Depth IntInf | Incumbent    BestBd   Gap | It/Node Time\n",
      "\n",
      "*    0     0               0    -4.17031e+10 -4.170e+10  0.00%     -    0s\n",
      "\n",
      "Explored 1 nodes (6 simplex iterations) in 0.00 seconds (0.00 work units)\n",
      "Thread count was 24 (of 24 available processors)\n",
      "\n",
      "Solution count 2: -4.17031e+10 0 \n",
      "No other solutions better than -4.17031e+10\n",
      "\n",
      "Optimal solution found (tolerance 1.00e-04)\n",
      "Best objective -4.170308601862e+10, best bound -4.170308601862e+10, gap 0.0000%\n",
      "\n",
      "User-callback calls 157, time in user-callback 0.00 sec\n"
     ]
    },
    {
     "data": {
      "text/plain": [
       "* Solver : Gurobi\n",
       "\n",
       "* Status\n",
       "  Result count       : 2\n",
       "  Termination status : OPTIMAL\n",
       "  Message from the solver:\n",
       "  \"Model was solved to optimality (subject to tolerances), and an optimal solution is available.\"\n",
       "\n",
       "* Candidate solution (result #1)\n",
       "  Primal status      : FEASIBLE_POINT\n",
       "  Dual status        : NO_SOLUTION\n",
       "  Objective value    : -4.17031e+10\n",
       "  Objective bound    : -4.17031e+10\n",
       "  Relative gap       : 0.00000e+00\n",
       "  Dual objective value : -4.17031e+10\n",
       "  Primal solution :\n",
       "    x[1,1] : 0.00000e+00\n",
       "    x[1,2] : -0.00000e+00\n",
       "    x[1,3] : -0.00000e+00\n",
       "    x[1,4] : 1.00000e+00\n",
       "    x[1,5] : -0.00000e+00\n",
       "    x[2,1] : -0.00000e+00\n",
       "    x[2,2] : 0.00000e+00\n",
       "    x[2,3] : -0.00000e+00\n",
       "    x[2,4] : -0.00000e+00\n",
       "    x[2,5] : -0.00000e+00\n",
       "    x[3,1] : -0.00000e+00\n",
       "    x[3,2] : 0.00000e+00\n",
       "    x[3,3] : 0.00000e+00\n",
       "    x[3,4] : 0.00000e+00\n",
       "    x[3,5] : -0.00000e+00\n",
       "    x[4,1] : -0.00000e+00\n",
       "    x[4,2] : 0.00000e+00\n",
       "    x[4,3] : -0.00000e+00\n",
       "    x[4,4] : 0.00000e+00\n",
       "    x[4,5] : 1.00000e+00\n",
       "    x[5,1] : 1.00000e+00\n",
       "    x[5,2] : -0.00000e+00\n",
       "    x[5,3] : 0.00000e+00\n",
       "    x[5,4] : -0.00000e+00\n",
       "    x[5,5] : -0.00000e+00\n",
       "\n",
       "* Work counters\n",
       "  Solve time (sec)   : 9.99928e-04\n",
       "  Barrier iterations : 0\n",
       "  Node count         : 1\n"
      ]
     },
     "execution_count": 15,
     "metadata": {},
     "output_type": "execute_result"
    }
   ],
   "source": [
    "#Set hyperparameters\n",
    "mc = 1\n",
    "mp = 1\n",
    "\n",
    "#set summed_cost parameter to 0 as initial value\n",
    "summed_cost = 0;\n",
    "summed_penalty = 0;\n",
    "\n",
    "#Initialize our model:\n",
    "pairs_trading_model = Model(Gurobi.Optimizer)\n",
    "\n",
    "@variable(pairs_trading_model, x[i= 1:5, j=1:5], Bin)\n",
    "@objective(pairs_trading_model, Min, costfunct(x, similarity, ask_price_df, bid_price_df))\n",
    "@constraint(pairs_trading_model, inflow[i in 1:4], sum(x[i,:]) <= 1)\n",
    "@constraint(pairs_trading_model, outflow[j in 1:4], sum(x[:,j]) <= 1)\n",
    "@constraint(pairs_trading_model, equality[z in 1:5], sum(x[:,z]) - sum(x[z,:]) == 0)\n",
    "\n",
    "#dummy constraint\n",
    "@constraint(pairs_trading_model, dummyin, sum(x[5,:]) == 1)\n",
    "@constraint(pairs_trading_model, dummyout, sum(x[:,5]) == 1)\n",
    "\n",
    "optimize!(pairs_trading_model)\n",
    "solution_summary(pairs_trading_model; verbose = true)"
   ]
  },
  {
   "cell_type": "code",
   "execution_count": 16,
   "id": "5659ab9d-e17c-4c4d-b386-97b4bd83565a",
   "metadata": {},
   "outputs": [
    {
     "data": {
      "text/latex": [
       "$$ \\begin{aligned}\n",
       "\\min\\quad & -4.1612718079166534e10 x_{1,2} - 3.763455751595193e10 x_{1,3} - 4.170308601862065e10 x_{1,4} + 4.161278903793464e10 x_{2,1} + 9.991380872388434e7 x_{2,3} - 49001.50983231168 x_{2,4} + 3.763462499772e10 x_{3,1} - 9.991317654205929e7 x_{3,2} - 1.0438783571168646e8 x_{3,4} + 4.1703150603053474e10 x_{4,1} + 49008.51723441439 x_{4,2} + 1.04388159126092e8 x_{4,3}\\\\\n",
       "\\text{Subject to} \\quad & x_{2,1} + x_{3,1} + x_{4,1} + x_{5,1} - x_{1,2} - x_{1,3} - x_{1,4} - x_{1,5} = 0\\\\\n",
       " & -x_{2,1} + x_{1,2} + x_{3,2} + x_{4,2} + x_{5,2} - x_{2,3} - x_{2,4} - x_{2,5} = 0\\\\\n",
       " & -x_{3,1} - x_{3,2} + x_{1,3} + x_{2,3} + x_{4,3} + x_{5,3} - x_{3,4} - x_{3,5} = 0\\\\\n",
       " & -x_{4,1} - x_{4,2} - x_{4,3} + x_{1,4} + x_{2,4} + x_{3,4} + x_{5,4} - x_{4,5} = 0\\\\\n",
       " & -x_{5,1} - x_{5,2} - x_{5,3} - x_{5,4} + x_{1,5} + x_{2,5} + x_{3,5} + x_{4,5} = 0\\\\\n",
       " & x_{5,1} + x_{5,2} + x_{5,3} + x_{5,4} + x_{5,5} = 1\\\\\n",
       " & x_{1,5} + x_{2,5} + x_{3,5} + x_{4,5} + x_{5,5} = 1\\\\\n",
       " & x_{1,1} + x_{1,2} + x_{1,3} + x_{1,4} + x_{1,5} \\leq 1\\\\\n",
       " & x_{2,1} + x_{2,2} + x_{2,3} + x_{2,4} + x_{2,5} \\leq 1\\\\\n",
       " & x_{3,1} + x_{3,2} + x_{3,3} + x_{3,4} + x_{3,5} \\leq 1\\\\\n",
       " & x_{4,1} + x_{4,2} + x_{4,3} + x_{4,4} + x_{4,5} \\leq 1\\\\\n",
       " & x_{1,1} + x_{2,1} + x_{3,1} + x_{4,1} + x_{5,1} \\leq 1\\\\\n",
       " & x_{1,2} + x_{2,2} + x_{3,2} + x_{4,2} + x_{5,2} \\leq 1\\\\\n",
       " & x_{1,3} + x_{2,3} + x_{3,3} + x_{4,3} + x_{5,3} \\leq 1\\\\\n",
       " & x_{1,4} + x_{2,4} + x_{3,4} + x_{4,4} + x_{5,4} \\leq 1\\\\\n",
       " & x_{1,1} \\in \\{0, 1\\}\\\\\n",
       " & x_{2,1} \\in \\{0, 1\\}\\\\\n",
       " & x_{3,1} \\in \\{0, 1\\}\\\\\n",
       " & x_{4,1} \\in \\{0, 1\\}\\\\\n",
       " & x_{5,1} \\in \\{0, 1\\}\\\\\n",
       " & x_{1,2} \\in \\{0, 1\\}\\\\\n",
       " & x_{2,2} \\in \\{0, 1\\}\\\\\n",
       " & x_{3,2} \\in \\{0, 1\\}\\\\\n",
       " & x_{4,2} \\in \\{0, 1\\}\\\\\n",
       " & x_{5,2} \\in \\{0, 1\\}\\\\\n",
       " & x_{1,3} \\in \\{0, 1\\}\\\\\n",
       " & x_{2,3} \\in \\{0, 1\\}\\\\\n",
       " & x_{3,3} \\in \\{0, 1\\}\\\\\n",
       " & x_{4,3} \\in \\{0, 1\\}\\\\\n",
       " & x_{5,3} \\in \\{0, 1\\}\\\\\n",
       " & x_{1,4} \\in \\{0, 1\\}\\\\\n",
       " & x_{2,4} \\in \\{0, 1\\}\\\\\n",
       " & x_{3,4} \\in \\{0, 1\\}\\\\\n",
       " & x_{4,4} \\in \\{0, 1\\}\\\\\n",
       " & x_{5,4} \\in \\{0, 1\\}\\\\\n",
       " & x_{1,5} \\in \\{0, 1\\}\\\\\n",
       " & x_{2,5} \\in \\{0, 1\\}\\\\\n",
       " & x_{3,5} \\in \\{0, 1\\}\\\\\n",
       " & x_{4,5} \\in \\{0, 1\\}\\\\\n",
       " & x_{5,5} \\in \\{0, 1\\}\\\\\n",
       "\\end{aligned} $$"
      ]
     },
     "metadata": {},
     "output_type": "display_data"
    },
    {
     "name": "stdout",
     "output_type": "stream",
     "text": [
      "* Solver : Gurobi\n",
      "\n",
      "* Status\n",
      "  Result count       : 2\n",
      "  Termination status : OPTIMAL\n",
      "  Message from the solver:\n",
      "  \"Model was solved to optimality (subject to tolerances), and an optimal solution is available.\"\n",
      "\n",
      "* Candidate solution (result #1)\n",
      "  Primal status      : FEASIBLE_POINT\n",
      "  Dual status        : NO_SOLUTION\n",
      "  Objective value    : -4.17031e+10\n",
      "  Objective bound    : -4.17031e+10\n",
      "  Relative gap       : 0.00000e+00\n",
      "  Dual objective value : -4.17031e+10\n",
      "\n",
      "* Work counters\n",
      "  Solve time (sec)   : 9.99928e-04\n",
      "  Barrier iterations : 0\n",
      "  Node count         : 1\n",
      "true"
     ]
    }
   ],
   "source": [
    "print(pairs_trading_model)\n",
    "print(solution_summary(pairs_trading_model))\n",
    "print(is_solved_and_feasible(pairs_trading_model))"
   ]
  }
 ],
 "metadata": {
  "kernelspec": {
   "display_name": "Julia 1.10.4",
   "language": "julia",
   "name": "julia-1.10"
  },
  "language_info": {
   "file_extension": ".jl",
   "mimetype": "application/julia",
   "name": "julia",
   "version": "1.10.4"
  }
 },
 "nbformat": 4,
 "nbformat_minor": 5
}
