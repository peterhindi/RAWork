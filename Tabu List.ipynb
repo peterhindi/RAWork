{
 "cells": [
  {
   "cell_type": "code",
   "execution_count": null,
   "id": "00c95dc3-f7da-426c-b6df-fa3f64fdcf46",
   "metadata": {},
   "outputs": [],
   "source": [
    "#Import packages\n",
    "using JuMP, Pkg, CSV, DataFrames, Statistics, Plots, Ipopt, Combinatorics, Distances, LinearAlgebra, AmplNLWriter, NBInclude\n"
   ]
  },
  {
   "cell_type": "code",
   "execution_count": null,
   "id": "02cf6874-08ed-4cde-8725-7eb867e1c620",
   "metadata": {},
   "outputs": [],
   "source": [
    "#Set up Tabu List Function\n"
   ]
  }
 ],
 "metadata": {
  "kernelspec": {
   "display_name": "Julia 1.10.2",
   "language": "julia",
   "name": "julia-1.10"
  },
  "language_info": {
   "file_extension": ".jl",
   "mimetype": "application/julia",
   "name": "julia",
   "version": "1.10.2"
  }
 },
 "nbformat": 4,
 "nbformat_minor": 5
}
