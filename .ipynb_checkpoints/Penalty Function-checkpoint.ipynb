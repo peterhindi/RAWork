{
 "cells": [
  {
   "cell_type": "code",
   "execution_count": 3,
   "id": "278524a0-fb2f-44c0-8194-69ea46c41792",
   "metadata": {},
   "outputs": [
    {
     "data": {
      "text/plain": [
       "penaltyfunction (generic function with 1 method)"
      ]
     },
     "execution_count": 3,
     "metadata": {},
     "output_type": "execute_result"
    }
   ],
   "source": [
    "#make number of assets dynamic\n",
    "function penaltyfunctt1(x)\n",
    "    summed_penalty = 0\n",
    "    for i in 1:5\n",
    "        for j in 1:5\n",
    "            for jprime in (j+1):5\n",
    "                summed_penalty+=x[i,j]*x[i,jprime]\n",
    "            end\n",
    "        end\n",
    "    end\n",
    "    return summed_penalty\n",
    "end\n",
    "\n",
    "function penaltyfunctt2(x)\n",
    "    summed_penalty = 0\n",
    "    for j in 1:5\n",
    "        for i in 1:5\n",
    "            for iprime = (i+1):5\n",
    "                summed_penalty+=x[i,j]*x[iprime,j]\n",
    "            end\n",
    "        end\n",
    "    end\n",
    "    return summed_penalty\n",
    "end    \n",
    "\n",
    "function penaltyfunctt3(x)\n",
    "    summed_total = 0\n",
    "    for i in 1:5\n",
    "        summed_penalty = 0\n",
    "        for j in 1:5\n",
    "            summed_penalty += x[i,j] - x[j,i]\n",
    "        end\n",
    "        summed_total += summed_penalty^2\n",
    "    end\n",
    "    return summed_total\n",
    "end\n",
    "\n",
    "function penaltyfunctt4(x)\n",
    "    summed_penalty = 0\n",
    "    for i in 1:5\n",
    "        for j in 1:5\n",
    "            summed_penalty += x[i,j]*x[j,i]\n",
    "        end\n",
    "    end\n",
    "    return summed_penalty\n",
    "end\n",
    "    \n",
    "function penaltyfunction(x)\n",
    "    return penaltyfunctt4(x) + penaltyfunctt3(x) + penaltyfunctt2(x) + penaltyfunctt1(x)\n",
    "end"
   ]
  },
  {
   "cell_type": "code",
   "execution_count": 10,
   "id": "2335eff9-d15c-4da4-acdf-7d7a39b26188",
   "metadata": {},
   "outputs": [
    {
     "name": "stdout",
     "output_type": "stream",
     "text": [
      "Any[(1, 1), (1, 1), (1, 1), (1, 1), (1, 2), (1, 2), (1, 2), (1, 3), (1, 3), (1, 4), (2, 1), (2, 1), (2, 1), (2, 1), (2, 2), (2, 2), (2, 2), (2, 3), (2, 3), (2, 4), (3, 1), (3, 1), (3, 1), (3, 1), (3, 2), (3, 2), (3, 2), (3, 3), (3, 3), (3, 4), (4, 1), (4, 1), (4, 1), (4, 1), (4, 2), (4, 2), (4, 2), (4, 3), (4, 3), (4, 4), (5, 1), (5, 1), (5, 1), (5, 1), (5, 2), (5, 2), (5, 2), (5, 3), (5, 3), (5, 4)]\n",
      "Any[(1, 2), (1, 3), (1, 4), (1, 5), (1, 3), (1, 4), (1, 5), (1, 4), (1, 5), (1, 5), (2, 2), (2, 3), (2, 4), (2, 5), (2, 3), (2, 4), (2, 5), (2, 4), (2, 5), (2, 5), (3, 2), (3, 3), (3, 4), (3, 5), (3, 3), (3, 4), (3, 5), (3, 4), (3, 5), (3, 5), (4, 2), (4, 3), (4, 4), (4, 5), (4, 3), (4, 4), (4, 5), (4, 4), (4, 5), (4, 5), (5, 2), (5, 3), (5, 4), (5, 5), (5, 3), (5, 4), (5, 5), (5, 4), (5, 5), (5, 5)]\n"
     ]
    }
   ],
   "source": [
    "#term1 = []\n",
    "#term2 = []\n",
    "#  for i in 1:5\n",
    "#      for j in 1:5\n",
    "#         for jprime in (j+1):5\n",
    "#             push!(term1,(i,j))\n",
    "#             push!(term2,(i,jprime))\n",
    "#             summed_penalty+=x[i,j]*x[i,jprime]\n",
    "#         end\n",
    "#      end\n",
    "#   end\n",
    "#println(term1)\n",
    "#println(term2)"
   ]
  }
 ],
 "metadata": {
  "kernelspec": {
   "display_name": "Julia 1.10.2",
   "language": "julia",
   "name": "julia-1.10"
  },
  "language_info": {
   "file_extension": ".jl",
   "mimetype": "application/julia",
   "name": "julia",
   "version": "1.10.2"
  }
 },
 "nbformat": 4,
 "nbformat_minor": 5
}
