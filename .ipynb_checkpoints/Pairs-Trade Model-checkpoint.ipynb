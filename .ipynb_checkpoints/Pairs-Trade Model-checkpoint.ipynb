{
 "cells": [
  {
   "cell_type": "code",
   "execution_count": 1,
   "id": "c832c31a-6984-477b-ac45-d389b0e1ed0e",
   "metadata": {
    "scrolled": true
   },
   "outputs": [],
   "source": [
    "#Import packages\n",
    "using JuMP, Pkg, CSV, DataFrames, Statistics, Plots, Ipopt, Combinatorics, Distances, LinearAlgebra, COSMO\n",
    "\n",
    "\n",
    "\n"
   ]
  },
  {
   "cell_type": "code",
   "execution_count": 2,
   "id": "a887c7b4-17c9-4e1a-9ac2-e9b63459d757",
   "metadata": {},
   "outputs": [],
   "source": [
    "#Pkg.add(\"COSMO\")"
   ]
  },
  {
   "cell_type": "code",
   "execution_count": 3,
   "id": "0df8debe-9f49-4598-8e71-492d5dff4594",
   "metadata": {},
   "outputs": [
    {
     "data": {
      "text/html": [
       "<div><div style = \"float: left;\"><span>10×7 DataFrame</span></div><div style = \"clear: both;\"></div></div><div class = \"data-frame\" style = \"overflow-x: scroll;\"><table class = \"data-frame\" style = \"margin-bottom: 6px;\"><thead><tr class = \"header\"><th class = \"rowNumber\" style = \"font-weight: bold; text-align: right;\">Row</th><th style = \"text-align: left;\">update_id</th><th style = \"text-align: left;\">best_bid_price</th><th style = \"text-align: left;\">best_bid_qty</th><th style = \"text-align: left;\">best_ask_price</th><th style = \"text-align: left;\">best_ask_qty</th><th style = \"text-align: left;\">transaction_time</th><th style = \"text-align: left;\">event_time</th></tr><tr class = \"subheader headerLastRow\"><th class = \"rowNumber\" style = \"font-weight: bold; text-align: right;\"></th><th title = \"Float64\" style = \"text-align: left;\">Float64</th><th title = \"Float64\" style = \"text-align: left;\">Float64</th><th title = \"Int64\" style = \"text-align: left;\">Int64</th><th title = \"Float64\" style = \"text-align: left;\">Float64</th><th title = \"Int64\" style = \"text-align: left;\">Int64</th><th title = \"Float64\" style = \"text-align: left;\">Float64</th><th title = \"Float64\" style = \"text-align: left;\">Float64</th></tr></thead><tbody><tr><td class = \"rowNumber\" style = \"font-weight: bold; text-align: right;\">1</td><td style = \"text-align: right;\">9.9843e11</td><td style = \"text-align: right;\">3231.03</td><td style = \"text-align: right;\">17444</td><td style = \"text-align: right;\">3231.04</td><td style = \"text-align: right;\">17179</td><td style = \"text-align: right;\">1.72247e12</td><td style = \"text-align: right;\">1.72247e12</td></tr><tr><td class = \"rowNumber\" style = \"font-weight: bold; text-align: right;\">2</td><td style = \"text-align: right;\">9.9843e11</td><td style = \"text-align: right;\">3231.03</td><td style = \"text-align: right;\">17515</td><td style = \"text-align: right;\">3231.04</td><td style = \"text-align: right;\">17179</td><td style = \"text-align: right;\">1.72247e12</td><td style = \"text-align: right;\">1.72247e12</td></tr><tr><td class = \"rowNumber\" style = \"font-weight: bold; text-align: right;\">3</td><td style = \"text-align: right;\">9.9843e11</td><td style = \"text-align: right;\">3231.03</td><td style = \"text-align: right;\">17515</td><td style = \"text-align: right;\">3231.04</td><td style = \"text-align: right;\">17152</td><td style = \"text-align: right;\">1.72247e12</td><td style = \"text-align: right;\">1.72247e12</td></tr><tr><td class = \"rowNumber\" style = \"font-weight: bold; text-align: right;\">4</td><td style = \"text-align: right;\">9.9843e11</td><td style = \"text-align: right;\">3231.03</td><td style = \"text-align: right;\">17546</td><td style = \"text-align: right;\">3231.04</td><td style = \"text-align: right;\">17152</td><td style = \"text-align: right;\">1.72247e12</td><td style = \"text-align: right;\">1.72247e12</td></tr><tr><td class = \"rowNumber\" style = \"font-weight: bold; text-align: right;\">5</td><td style = \"text-align: right;\">9.9843e11</td><td style = \"text-align: right;\">3231.03</td><td style = \"text-align: right;\">17475</td><td style = \"text-align: right;\">3231.04</td><td style = \"text-align: right;\">17152</td><td style = \"text-align: right;\">1.72247e12</td><td style = \"text-align: right;\">1.72247e12</td></tr><tr><td class = \"rowNumber\" style = \"font-weight: bold; text-align: right;\">6</td><td style = \"text-align: right;\">9.9843e11</td><td style = \"text-align: right;\">3231.03</td><td style = \"text-align: right;\">17475</td><td style = \"text-align: right;\">3231.04</td><td style = \"text-align: right;\">17652</td><td style = \"text-align: right;\">1.72247e12</td><td style = \"text-align: right;\">1.72247e12</td></tr><tr><td class = \"rowNumber\" style = \"font-weight: bold; text-align: right;\">7</td><td style = \"text-align: right;\">9.9843e11</td><td style = \"text-align: right;\">3231.03</td><td style = \"text-align: right;\">17475</td><td style = \"text-align: right;\">3231.04</td><td style = \"text-align: right;\">17991</td><td style = \"text-align: right;\">1.72247e12</td><td style = \"text-align: right;\">1.72247e12</td></tr><tr><td class = \"rowNumber\" style = \"font-weight: bold; text-align: right;\">8</td><td style = \"text-align: right;\">9.9843e11</td><td style = \"text-align: right;\">3231.03</td><td style = \"text-align: right;\">17475</td><td style = \"text-align: right;\">3231.04</td><td style = \"text-align: right;\">17990</td><td style = \"text-align: right;\">1.72247e12</td><td style = \"text-align: right;\">1.72247e12</td></tr><tr><td class = \"rowNumber\" style = \"font-weight: bold; text-align: right;\">9</td><td style = \"text-align: right;\">9.9843e11</td><td style = \"text-align: right;\">3231.03</td><td style = \"text-align: right;\">17475</td><td style = \"text-align: right;\">3231.04</td><td style = \"text-align: right;\">17599</td><td style = \"text-align: right;\">1.72247e12</td><td style = \"text-align: right;\">1.72247e12</td></tr><tr><td class = \"rowNumber\" style = \"font-weight: bold; text-align: right;\">10</td><td style = \"text-align: right;\">9.9843e11</td><td style = \"text-align: right;\">3231.03</td><td style = \"text-align: right;\">17406</td><td style = \"text-align: right;\">3231.04</td><td style = \"text-align: right;\">17599</td><td style = \"text-align: right;\">1.72247e12</td><td style = \"text-align: right;\">1.72247e12</td></tr></tbody></table></div>"
      ],
      "text/latex": [
       "\\begin{tabular}{r|ccccccc}\n",
       "\t& update\\_id & best\\_bid\\_price & best\\_bid\\_qty & best\\_ask\\_price & best\\_ask\\_qty & transaction\\_time & \\\\\n",
       "\t\\hline\n",
       "\t& Float64 & Float64 & Int64 & Float64 & Int64 & Float64 & \\\\\n",
       "\t\\hline\n",
       "\t1 & 9.9843e11 & 3231.03 & 17444 & 3231.04 & 17179 & 1.72247e12 & $\\dots$ \\\\\n",
       "\t2 & 9.9843e11 & 3231.03 & 17515 & 3231.04 & 17179 & 1.72247e12 & $\\dots$ \\\\\n",
       "\t3 & 9.9843e11 & 3231.03 & 17515 & 3231.04 & 17152 & 1.72247e12 & $\\dots$ \\\\\n",
       "\t4 & 9.9843e11 & 3231.03 & 17546 & 3231.04 & 17152 & 1.72247e12 & $\\dots$ \\\\\n",
       "\t5 & 9.9843e11 & 3231.03 & 17475 & 3231.04 & 17152 & 1.72247e12 & $\\dots$ \\\\\n",
       "\t6 & 9.9843e11 & 3231.03 & 17475 & 3231.04 & 17652 & 1.72247e12 & $\\dots$ \\\\\n",
       "\t7 & 9.9843e11 & 3231.03 & 17475 & 3231.04 & 17991 & 1.72247e12 & $\\dots$ \\\\\n",
       "\t8 & 9.9843e11 & 3231.03 & 17475 & 3231.04 & 17990 & 1.72247e12 & $\\dots$ \\\\\n",
       "\t9 & 9.9843e11 & 3231.03 & 17475 & 3231.04 & 17599 & 1.72247e12 & $\\dots$ \\\\\n",
       "\t10 & 9.9843e11 & 3231.03 & 17406 & 3231.04 & 17599 & 1.72247e12 & $\\dots$ \\\\\n",
       "\\end{tabular}\n"
      ],
      "text/plain": [
       "\u001b[1m10×7 DataFrame\u001b[0m\n",
       "\u001b[1m Row \u001b[0m│\u001b[1m update_id \u001b[0m\u001b[1m best_bid_price \u001b[0m\u001b[1m best_bid_qty \u001b[0m\u001b[1m best_ask_price \u001b[0m\u001b[1m best_ask_qty \u001b[0m\u001b[1m \u001b[0m ⋯\n",
       "     │\u001b[90m Float64   \u001b[0m\u001b[90m Float64        \u001b[0m\u001b[90m Int64        \u001b[0m\u001b[90m Float64        \u001b[0m\u001b[90m Int64        \u001b[0m\u001b[90m \u001b[0m ⋯\n",
       "─────┼──────────────────────────────────────────────────────────────────────────\n",
       "   1 │ 9.9843e11         3231.03         17444         3231.04         17179   ⋯\n",
       "   2 │ 9.9843e11         3231.03         17515         3231.04         17179\n",
       "   3 │ 9.9843e11         3231.03         17515         3231.04         17152\n",
       "   4 │ 9.9843e11         3231.03         17546         3231.04         17152\n",
       "   5 │ 9.9843e11         3231.03         17475         3231.04         17152   ⋯\n",
       "   6 │ 9.9843e11         3231.03         17475         3231.04         17652\n",
       "   7 │ 9.9843e11         3231.03         17475         3231.04         17991\n",
       "   8 │ 9.9843e11         3231.03         17475         3231.04         17990\n",
       "   9 │ 9.9843e11         3231.03         17475         3231.04         17599   ⋯\n",
       "  10 │ 9.9843e11         3231.03         17406         3231.04         17599\n",
       "\u001b[36m                                                               2 columns omitted\u001b[0m"
      ]
     },
     "execution_count": 3,
     "metadata": {},
     "output_type": "execute_result"
    }
   ],
   "source": [
    "#Read in asset-level prices\n",
    "btcdcf = CSV.read(\"btc_book-2024-08-01-trimmed.csv\", DataFrame)\n",
    "dgcdcf = CSV.read(\"dgc_book-2024-08-01-trimmed.csv\", DataFrame)\n",
    "ltcdcf = CSV.read(\"ltc_book-2024-08-01-trimmed.csv\", DataFrame)\n",
    "ethdcf = CSV.read(\"eth_book-2024-08-01-trimmed.csv\", DataFrame)\n"
   ]
  },
  {
   "cell_type": "code",
   "execution_count": 4,
   "id": "30217c94-e45a-4d28-9f1c-cf9aa03fdee1",
   "metadata": {
    "scrolled": true
   },
   "outputs": [],
   "source": [
    "#show(btcdcf,allcols = true)\n",
    "#show(dgcdcf,allcols = true)\n",
    "#show(ltcdcf,allcols = true)\n",
    "#show(ethdcf,allcols = true)"
   ]
  },
  {
   "cell_type": "code",
   "execution_count": 5,
   "id": "bd603494-342e-4c59-93e9-eb33f78111bf",
   "metadata": {},
   "outputs": [
    {
     "data": {
      "text/html": [
       "<div><div style = \"float: left;\"><span>10×5 DataFrame</span></div><div style = \"clear: both;\"></div></div><div class = \"data-frame\" style = \"overflow-x: scroll;\"><table class = \"data-frame\" style = \"margin-bottom: 6px;\"><thead><tr class = \"header\"><th class = \"rowNumber\" style = \"font-weight: bold; text-align: right;\">Row</th><th style = \"text-align: left;\">best_bid_price</th><th style = \"text-align: left;\">best_ask_price</th><th style = \"text-align: left;\">best_ask_qty</th><th style = \"text-align: left;\">best_bid_qty</th><th style = \"text-align: left;\">event_time</th></tr><tr class = \"subheader headerLastRow\"><th class = \"rowNumber\" style = \"font-weight: bold; text-align: right;\"></th><th title = \"Float64\" style = \"text-align: left;\">Float64</th><th title = \"Float64\" style = \"text-align: left;\">Float64</th><th title = \"Int64\" style = \"text-align: left;\">Int64</th><th title = \"Int64\" style = \"text-align: left;\">Int64</th><th title = \"Float64\" style = \"text-align: left;\">Float64</th></tr></thead><tbody><tr><td class = \"rowNumber\" style = \"font-weight: bold; text-align: right;\">1</td><td style = \"text-align: right;\">0.12185</td><td style = \"text-align: right;\">0.12186</td><td style = \"text-align: right;\">1141</td><td style = \"text-align: right;\">1094</td><td style = \"text-align: right;\">1.72247e12</td></tr><tr><td class = \"rowNumber\" style = \"font-weight: bold; text-align: right;\">2</td><td style = \"text-align: right;\">0.12185</td><td style = \"text-align: right;\">0.12186</td><td style = \"text-align: right;\">1141</td><td style = \"text-align: right;\">1057</td><td style = \"text-align: right;\">1.72247e12</td></tr><tr><td class = \"rowNumber\" style = \"font-weight: bold; text-align: right;\">3</td><td style = \"text-align: right;\">0.12185</td><td style = \"text-align: right;\">0.12186</td><td style = \"text-align: right;\">1132</td><td style = \"text-align: right;\">1057</td><td style = \"text-align: right;\">1.72247e12</td></tr><tr><td class = \"rowNumber\" style = \"font-weight: bold; text-align: right;\">4</td><td style = \"text-align: right;\">0.12185</td><td style = \"text-align: right;\">0.12186</td><td style = \"text-align: right;\">1093</td><td style = \"text-align: right;\">1057</td><td style = \"text-align: right;\">1.72247e12</td></tr><tr><td class = \"rowNumber\" style = \"font-weight: bold; text-align: right;\">5</td><td style = \"text-align: right;\">0.12185</td><td style = \"text-align: right;\">0.12186</td><td style = \"text-align: right;\">1125</td><td style = \"text-align: right;\">1057</td><td style = \"text-align: right;\">1.72247e12</td></tr><tr><td class = \"rowNumber\" style = \"font-weight: bold; text-align: right;\">6</td><td style = \"text-align: right;\">0.12185</td><td style = \"text-align: right;\">0.12186</td><td style = \"text-align: right;\">1065</td><td style = \"text-align: right;\">1057</td><td style = \"text-align: right;\">1.72247e12</td></tr><tr><td class = \"rowNumber\" style = \"font-weight: bold; text-align: right;\">7</td><td style = \"text-align: right;\">0.12185</td><td style = \"text-align: right;\">0.12186</td><td style = \"text-align: right;\">1033</td><td style = \"text-align: right;\">1057</td><td style = \"text-align: right;\">1.72247e12</td></tr><tr><td class = \"rowNumber\" style = \"font-weight: bold; text-align: right;\">8</td><td style = \"text-align: right;\">0.12185</td><td style = \"text-align: right;\">0.12186</td><td style = \"text-align: right;\">1067</td><td style = \"text-align: right;\">1057</td><td style = \"text-align: right;\">1.72247e12</td></tr><tr><td class = \"rowNumber\" style = \"font-weight: bold; text-align: right;\">9</td><td style = \"text-align: right;\">0.12185</td><td style = \"text-align: right;\">0.12186</td><td style = \"text-align: right;\">1058</td><td style = \"text-align: right;\">1057</td><td style = \"text-align: right;\">1.72247e12</td></tr><tr><td class = \"rowNumber\" style = \"font-weight: bold; text-align: right;\">10</td><td style = \"text-align: right;\">0.12185</td><td style = \"text-align: right;\">0.12186</td><td style = \"text-align: right;\">1058</td><td style = \"text-align: right;\">1352</td><td style = \"text-align: right;\">1.72247e12</td></tr></tbody></table></div>"
      ],
      "text/latex": [
       "\\begin{tabular}{r|ccccc}\n",
       "\t& best\\_bid\\_price & best\\_ask\\_price & best\\_ask\\_qty & best\\_bid\\_qty & event\\_time\\\\\n",
       "\t\\hline\n",
       "\t& Float64 & Float64 & Int64 & Int64 & Float64\\\\\n",
       "\t\\hline\n",
       "\t1 & 0.12185 & 0.12186 & 1141 & 1094 & 1.72247e12 \\\\\n",
       "\t2 & 0.12185 & 0.12186 & 1141 & 1057 & 1.72247e12 \\\\\n",
       "\t3 & 0.12185 & 0.12186 & 1132 & 1057 & 1.72247e12 \\\\\n",
       "\t4 & 0.12185 & 0.12186 & 1093 & 1057 & 1.72247e12 \\\\\n",
       "\t5 & 0.12185 & 0.12186 & 1125 & 1057 & 1.72247e12 \\\\\n",
       "\t6 & 0.12185 & 0.12186 & 1065 & 1057 & 1.72247e12 \\\\\n",
       "\t7 & 0.12185 & 0.12186 & 1033 & 1057 & 1.72247e12 \\\\\n",
       "\t8 & 0.12185 & 0.12186 & 1067 & 1057 & 1.72247e12 \\\\\n",
       "\t9 & 0.12185 & 0.12186 & 1058 & 1057 & 1.72247e12 \\\\\n",
       "\t10 & 0.12185 & 0.12186 & 1058 & 1352 & 1.72247e12 \\\\\n",
       "\\end{tabular}\n"
      ],
      "text/plain": [
       "\u001b[1m10×5 DataFrame\u001b[0m\n",
       "\u001b[1m Row \u001b[0m│\u001b[1m best_bid_price \u001b[0m\u001b[1m best_ask_price \u001b[0m\u001b[1m best_ask_qty \u001b[0m\u001b[1m best_bid_qty \u001b[0m\u001b[1m event_time \u001b[0m\n",
       "     │\u001b[90m Float64        \u001b[0m\u001b[90m Float64        \u001b[0m\u001b[90m Int64        \u001b[0m\u001b[90m Int64        \u001b[0m\u001b[90m Float64    \u001b[0m\n",
       "─────┼────────────────────────────────────────────────────────────────────────\n",
       "   1 │        0.12185         0.12186          1141          1094  1.72247e12\n",
       "   2 │        0.12185         0.12186          1141          1057  1.72247e12\n",
       "   3 │        0.12185         0.12186          1132          1057  1.72247e12\n",
       "   4 │        0.12185         0.12186          1093          1057  1.72247e12\n",
       "   5 │        0.12185         0.12186          1125          1057  1.72247e12\n",
       "   6 │        0.12185         0.12186          1065          1057  1.72247e12\n",
       "   7 │        0.12185         0.12186          1033          1057  1.72247e12\n",
       "   8 │        0.12185         0.12186          1067          1057  1.72247e12\n",
       "   9 │        0.12185         0.12186          1058          1057  1.72247e12\n",
       "  10 │        0.12185         0.12186          1058          1352  1.72247e12"
      ]
     },
     "execution_count": 5,
     "metadata": {},
     "output_type": "execute_result"
    }
   ],
   "source": [
    "#trim dataframes for price/correlation variable calculation \n",
    "btcdf_trimmed = (select(btcdcf,[:\"best_bid_price\",:\"best_ask_price\",:\"best_ask_qty\",:\"best_bid_qty\",:\"event_time\"]))[1:10,1:5]\n",
    "ltcdf_trimmed = (select(ltcdcf,[:\"best_bid_price\",:\"best_ask_price\",:\"best_ask_qty\",:\"best_bid_qty\",:\"event_time\"]))[1:10,1:5]\n",
    "ethdf_trimmed = (select(ethdcf,[:\"best_bid_price\",:\"best_ask_price\",:\"best_ask_qty\",:\"best_bid_qty\",:\"event_time\"]))[1:10,1:5]\n",
    "dgcdf_trimmed = (select(dgcdcf,[:\"best_bid_price\",:\"best_ask_price\",:\"best_ask_qty\",:\"best_bid_qty\",:\"event_time\"]))[1:10,1:5]"
   ]
  },
  {
   "cell_type": "code",
   "execution_count": 6,
   "id": "42d0ef58-5bcc-4008-af8a-ddd8e6a0c3a6",
   "metadata": {
    "scrolled": true
   },
   "outputs": [
    {
     "data": {
      "text/plain": [
       "10-element Vector{Float64}:\n",
       " 0.12185510514541387\n",
       " 0.12185519108280256\n",
       " 0.12185517131110093\n",
       " 0.12185508372093024\n",
       " 0.1218551558203483\n",
       " 0.12185501885014137\n",
       " 0.12185494258373206\n",
       " 0.12185502354048963\n",
       " 0.12185500236406618\n",
       " 0.12185439004149377"
      ]
     },
     "execution_count": 6,
     "metadata": {},
     "output_type": "execute_result"
    }
   ],
   "source": [
    "btcdf_trimmed[!, \"total_quantity\"] = btcdf_trimmed[!,\"best_ask_qty\"]+ btcdf_trimmed[!,\"best_bid_qty\"]\n",
    "btcdf_trimmed[!, \"weighted_avg_price\"] = ((btcdf_trimmed[!,\"best_ask_qty\"].*btcdf_trimmed[!,\"best_ask_price\"]) + (btcdf_trimmed[!,\"best_bid_qty\"].*btcdf_trimmed[!,\"best_bid_price\"]))./btcdf_trimmed[!, \"total_quantity\"]\n",
    "#show(btcdf_trimmed,allcols = true)\n",
    "\n",
    "ethdf_trimmed[!, \"total_quantity\"] = ethdf_trimmed[!,\"best_ask_qty\"]+ ethdf_trimmed[!,\"best_bid_qty\"]\n",
    "ethdf_trimmed[!, \"weighted_avg_price\"] = ((ethdf_trimmed[!,\"best_ask_qty\"].*ethdf_trimmed[!,\"best_ask_price\"]) + (ethdf_trimmed[!,\"best_bid_qty\"].*ethdf_trimmed[!,\"best_bid_price\"]))./ethdf_trimmed[!, \"total_quantity\"]\n",
    "#show(ethdf_trimmed,allcols = true)\n",
    "\n",
    "ltcdf_trimmed[!, \"total_quantity\"] = ltcdf_trimmed[!,\"best_ask_qty\"]+ ltcdf_trimmed[!,\"best_bid_qty\"]\n",
    "ltcdf_trimmed[!, \"weighted_avg_price\"] = ((ltcdf_trimmed[!,\"best_ask_qty\"].*ltcdf_trimmed[!,\"best_ask_price\"]) + (ltcdf_trimmed[!,\"best_bid_qty\"].*ltcdf_trimmed[!,\"best_bid_price\"]))./ltcdf_trimmed[!, \"total_quantity\"]\n",
    "#show(ltcdf_trimmed,allcols = true)\n",
    "\n",
    "dgcdf_trimmed[!, \"total_quantity\"] = dgcdf_trimmed[!,\"best_ask_qty\"]+ dgcdf_trimmed[!,\"best_bid_qty\"]\n",
    "dgcdf_trimmed[!, \"weighted_avg_price\"] = ((dgcdf_trimmed[!,\"best_ask_qty\"].*dgcdf_trimmed[!,\"best_ask_price\"]) + (dgcdf_trimmed[!,\"best_bid_qty\"].*dgcdf_trimmed[!,\"best_bid_price\"]))./dgcdf_trimmed[!, \"total_quantity\"]\n",
    "#show(dgcdf_trimmed,allcols = true)"
   ]
  },
  {
   "cell_type": "code",
   "execution_count": 7,
   "id": "a7fe0982-e75f-43b4-b4ca-0ff45831dfbe",
   "metadata": {},
   "outputs": [
    {
     "data": {
      "text/plain": [
       "10-element Vector{Float64}:\n",
       " 0.12185510514541387\n",
       " 0.12185519108280256\n",
       " 0.12185517131110093\n",
       " 0.12185508372093024\n",
       " 0.1218551558203483\n",
       " 0.12185501885014137\n",
       " 0.12185494258373206\n",
       " 0.12185502354048963\n",
       " 0.12185500236406618\n",
       " 0.12185439004149377"
      ]
     },
     "execution_count": 7,
     "metadata": {},
     "output_type": "execute_result"
    }
   ],
   "source": [
    "#btc_prices = (select(btcdf_trimmed,[:\"weighted_avg_price\",:\"event_time\"]))[1:1000000,1:2]\n",
    "#ltc_prices = (select(ltcdf_trimmed,[:\"weighted_avg_price\",:\"event_time\"]))[1:1000000,1:2]\n",
    "#eth_prices = (select(ethdf_trimmed,[:\"weighted_avg_price\",:\"event_time\"]))[1:1000000,1:2]\n",
    "#dgc_prices = (select(dgcdf_trimmed,[:\"weighted_avg_price\",:\"event_time\"]))[1:1000000,1:2]\n",
    "\n",
    "btc_prices = (select(btcdf_trimmed,[:\"weighted_avg_price\"]))[1:10,1]\n",
    "ltc_prices = (select(ltcdf_trimmed,[:\"weighted_avg_price\"]))[1:10,1]\n",
    "eth_prices = (select(ethdf_trimmed,[:\"weighted_avg_price\"]))[1:10,1]\n",
    "dgc_prices = (select(dgcdf_trimmed,[:\"weighted_avg_price\"]))[1:10,1]"
   ]
  },
  {
   "cell_type": "code",
   "execution_count": 8,
   "id": "a694ce05-6796-49a2-b638-dae5c454f2a7",
   "metadata": {},
   "outputs": [
    {
     "data": {
      "text/plain": [
       "dtwfn (generic function with 1 method)"
      ]
     },
     "execution_count": 8,
     "metadata": {},
     "output_type": "execute_result"
    }
   ],
   "source": [
    "function dtwfn(seq1, seq2)\n",
    "    n = length(seq1)\n",
    "    m = length(seq2)\n",
    "    dtw_matrix = zeros(n, m)\n",
    "    \n",
    "    dtw_matrix[1, 1] = abs(seq1[1] - seq2[1])\n",
    "    \n",
    "    for i in 2:n\n",
    "        dtw_matrix[i, 1] = abs(seq1[i] - seq2[1]) + dtw_matrix[i-1, 1]\n",
    "    end\n",
    "    \n",
    "    for j in 2:m\n",
    "        dtw_matrix[1, j] = abs(seq1[1] - seq2[j]) + dtw_matrix[1, j-1]\n",
    "    end\n",
    "    \n",
    "    for i in 2:n\n",
    "        for j in 2:m\n",
    "            cost = abs(seq1[i] - seq2[j])\n",
    "            dtw_matrix[i, j] = cost + min(dtw_matrix[i-1, j], dtw_matrix[i, j-1], dtw_matrix[i-1, j-1])\n",
    "        end\n",
    "    end\n",
    "    \n",
    "    return dtw_matrix[n, m]\n",
    "end"
   ]
  },
  {
   "cell_type": "code",
   "execution_count": 9,
   "id": "cc6c215d-9063-4445-93ef-02db688a18c6",
   "metadata": {},
   "outputs": [
    {
     "data": {
      "text/plain": [
       "1×4 Matrix{Vector{Float64}}:\n",
       " [64578.1, 64578.1, 64578.1, 64578.1, 64578.1, 64578.1, 64578.1, 64578.1, 64578.1, 64578.1]  …  [0.121855, 0.121855, 0.121855, 0.121855, 0.121855, 0.121855, 0.121855, 0.121855, 0.121855, 0.121854]"
      ]
     },
     "metadata": {},
     "output_type": "display_data"
    },
    {
     "data": {
      "text/plain": [
       "4×4 Symmetric{Float64, Matrix{Float64}}:\n",
       " 0.0            6.4508e5      6.13471e5      6.4578e5\n",
       " 6.4508e5       0.0       31609.1          700.04\n",
       " 6.13471e5  31609.1           0.0        32309.1\n",
       " 6.4578e5     700.04      32309.1            0.0"
      ]
     },
     "metadata": {},
     "output_type": "display_data"
    },
    {
     "data": {
      "text/plain": [
       "1×4 Matrix{Float64}:\n",
       " 64578.0  70.12  3231.03  0.12185"
      ]
     },
     "execution_count": 9,
     "metadata": {},
     "output_type": "execute_result"
    }
   ],
   "source": [
    "#Create 2d array of prices for weight calculation\n",
    "twoddf = [[btc_prices] [ltc_prices] [eth_prices] [dgc_prices]]\n",
    "display(twoddf)\n",
    "#Create matrix of dynamic-time-warping distances between variables for weight calculation\n",
    "similarity = zeros(4,4)\n",
    "for ii in 1:4\n",
    "    for j in (ii+1):4\n",
    "        similarity[ii,j]= dtwfn(twoddf[ii],twoddf[j])\n",
    "    end\n",
    "end\n",
    "similarity = LinearAlgebra.Symmetric(similarity)\n",
    "display(similarity)\n",
    "\n",
    "#Create array of last bid and ask prices for each asset\n",
    "ask_price_df = [[last(btcdf_trimmed[!,\"best_ask_price\"])] [last(ltcdf_trimmed[!,\"best_ask_price\"])] [last(ethdf_trimmed[!,\"best_ask_price\"])] [last(dgcdf_trimmed[!,\"best_ask_price\"])]]\n",
    "bid_price_df = [[last(btcdf_trimmed[!,\"best_bid_price\"])] [last(ltcdf_trimmed[!,\"best_bid_price\"])] [last(ethdf_trimmed[!,\"best_bid_price\"])] [last(dgcdf_trimmed[!,\"best_bid_price\"])]]\n"
   ]
  },
  {
   "cell_type": "code",
   "execution_count": 10,
   "id": "8fef8b2a-602c-4d3d-82c7-d0011c541352",
   "metadata": {},
   "outputs": [
    {
     "ename": "LoadError",
     "evalue": "Constraints of type MathOptInterface.VariableIndex-in-MathOptInterface.ZeroOne are not supported by the solver.\n\nIf you expected the solver to support your problem, you may have an error in your formulation. Otherwise, consider using a different solver.\n\nThe list of available solvers, along with the problem types they support, is available at https://jump.dev/JuMP.jl/stable/installation/#Supported-solvers.",
     "output_type": "error",
     "traceback": [
      "Constraints of type MathOptInterface.VariableIndex-in-MathOptInterface.ZeroOne are not supported by the solver.\n\nIf you expected the solver to support your problem, you may have an error in your formulation. Otherwise, consider using a different solver.\n\nThe list of available solvers, along with the problem types they support, is available at https://jump.dev/JuMP.jl/stable/installation/#Supported-solvers.",
      "",
      "Stacktrace:",
      "  [1] error(s::String)",
      "    @ Base ./error.jl:35",
      "  [2] _moi_add_constraint",
      "    @ ~/.julia/packages/JuMP/kSaGf/src/constraints.jl:686 [inlined]",
      "  [3] _moi_constrain_variable(moi_backend::MathOptInterface.Utilities.CachingOptimizer{MathOptInterface.Bridges.LazyBridgeOptimizer{MathOptInterface.Utilities.CachingOptimizer{COSMO.Optimizer{Float64}, MathOptInterface.Utilities.UniversalFallback{MathOptInterface.Utilities.Model{Float64}}}}, MathOptInterface.Utilities.UniversalFallback{MathOptInterface.Utilities.Model{Float64}}}, index::MathOptInterface.VariableIndex, info::VariableInfo{Float64, Float64, Float64, Float64}, ::Type{Float64})",
      "    @ JuMP ~/.julia/packages/JuMP/kSaGf/src/variables.jl:1806",
      "  [4] _moi_add_variable(moi_backend::MathOptInterface.Utilities.CachingOptimizer{MathOptInterface.Bridges.LazyBridgeOptimizer{MathOptInterface.Utilities.CachingOptimizer{COSMO.Optimizer{Float64}, MathOptInterface.Utilities.UniversalFallback{MathOptInterface.Utilities.Model{Float64}}}}, MathOptInterface.Utilities.UniversalFallback{MathOptInterface.Utilities.Model{Float64}}}, model::Model, v::ScalarVariable{Float64, Float64, Float64, Float64}, name::String)",
      "    @ JuMP ~/.julia/packages/JuMP/kSaGf/src/variables.jl:1747",
      "  [5] add_variable(model::Model, v::ScalarVariable{Float64, Float64, Float64, Float64}, name::String)",
      "    @ JuMP ~/.julia/packages/JuMP/kSaGf/src/variables.jl:1736",
      "  [6] macro expansion",
      "    @ ~/.julia/packages/JuMP/kSaGf/src/macros/@variable.jl:278 [inlined]",
      "  [7] #1",
      "    @ ~/.julia/packages/JuMP/kSaGf/src/Containers/macro.jl:539 [inlined]",
      "  [8] #84",
      "    @ ~/.julia/packages/JuMP/kSaGf/src/Containers/container.jl:85 [inlined]",
      "  [9] iterate",
      "    @ ./generator.jl:47 [inlined]",
      " [10] collect(itr::Base.Generator{JuMP.Containers.VectorizedProductIterator{Tuple{Base.OneTo{Int64}, Base.OneTo{Int64}}}, JuMP.Containers.var\"#84#85\"{var\"#1#2\"{Model}}})",
      "    @ Base ./array.jl:834",
      " [11] map(f::Function, A::JuMP.Containers.VectorizedProductIterator{Tuple{Base.OneTo{Int64}, Base.OneTo{Int64}}})",
      "    @ Base ./abstractarray.jl:3313",
      " [12] container",
      "    @ ~/.julia/packages/JuMP/kSaGf/src/Containers/container.jl:85 [inlined]",
      " [13] container",
      "    @ ~/.julia/packages/JuMP/kSaGf/src/Containers/container.jl:71 [inlined]",
      " [14] container(f::Function, indices::JuMP.Containers.VectorizedProductIterator{Tuple{Base.OneTo{Int64}, Base.OneTo{Int64}}}, ::Type{JuMP.Containers.AutoContainerType}, names::Vector{Any})",
      "    @ JuMP.Containers ~/.julia/packages/JuMP/kSaGf/src/Containers/container.jl:75",
      " [15] macro expansion",
      "    @ ~/.julia/packages/JuMP/kSaGf/src/macros.jl:393 [inlined]",
      " [16] top-level scope",
      "    @ In[10]:16"
     ]
    }
   ],
   "source": [
    "#Compute weights between asset combinations; for each combination of assets, compute weight = DTW distance\n",
    "#column location within location dataframe.columns\n",
    "#pricingdf.columns.get_loc(Aluminum)\n",
    "\n",
    "#set summed_cost parameter to 0 as initial value\n",
    "summed_cost = 0;\n",
    "summed_penalty = 0;\n",
    "\n",
    "#Set hyperparameters\n",
    "mc = 1\n",
    "mp = 1\n",
    "\n",
    "#Initialize our model:\n",
    "pairs_trading_model = JuMP.Model(COSMO.Optimizer)\n",
    "\n",
    "@variable(pairs_trading_model, x[i= 1:4, j=1:4], Bin)\n",
    "\n",
    "costfunct = @expression(pairs_trading_model, \n",
    "    for i in 1:4\n",
    "        for j in 1:4\n",
    "            summed_cost += similarity[i,j]*(ask_price_df[j] - bid_price_df[i])*x[i,j]\n",
    "        end\n",
    "    end\n",
    "    )\n",
    "\n",
    "penaltyfunct = @expression(pairs_trading_model,\n",
    "    for i in 1:4\n",
    "        for j in 1:4\n",
    "            if j = 2\n",
    "                continue\n",
    "            else\n",
    "                summed_penalty+=x[i,j]*x[i,2]\n",
    "            end\n",
    "        end\n",
    "    end\n",
    "\n",
    "    for j in 1:4\n",
    "        for i in 1:4\n",
    "            if i = 2\n",
    "                continue\n",
    "            else\n",
    "                summed_penalty+=x[i,j]*x[2,j]\n",
    "            end\n",
    "        end\n",
    "    end\n",
    "                \n",
    "\n",
    "    for i in 1:4\n",
    "        for j in 1:4\n",
    "            summed_penalty += (x[i,j] - x[j,i])^2\n",
    "        end\n",
    "    end\n",
    "                        \n",
    "    for i in 1:4\n",
    "        for j in 1:4\n",
    "            summed_penalty += x[i,j]*x[j,i]\n",
    "        end\n",
    "    end\n",
    "    )\n",
    "\n",
    "@objective(pairs_trading_model, Min, costfunct*mc+penaltyfunct*mp)"
   ]
  }
 ],
 "metadata": {
  "kernelspec": {
   "display_name": "Julia 1.10.2",
   "language": "julia",
   "name": "julia-1.10"
  },
  "language_info": {
   "file_extension": ".jl",
   "mimetype": "application/julia",
   "name": "julia",
   "version": "1.10.2"
  }
 },
 "nbformat": 4,
 "nbformat_minor": 5
}
