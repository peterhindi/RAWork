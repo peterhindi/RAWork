{
 "cells": [
  {
   "cell_type": "code",
   "execution_count": 4,
   "id": "c832c31a-6984-477b-ac45-d389b0e1ed0e",
   "metadata": {
    "scrolled": true
   },
   "outputs": [],
   "source": [
    "#Import packages\n",
    "using JuMP, Pkg, CSV, DataFrames, Statistics, Plots, Ipopt, Combinatorics, Distances, LinearAlgebra, AmplNLWriter, NBInclude\n"
   ]
  },
  {
   "cell_type": "code",
   "execution_count": 5,
   "id": "5571c713-3151-406c-8bc2-e6b71cf9389a",
   "metadata": {},
   "outputs": [
    {
     "data": {
      "text/plain": [
       "ask_price (generic function with 1 method)"
      ]
     },
     "execution_count": 5,
     "metadata": {},
     "output_type": "execute_result"
    }
   ],
   "source": [
    "@nbinclude(\"Similarity Factor & Bid-Ask Prices.ipynb\")"
   ]
  },
  {
   "cell_type": "code",
   "execution_count": 6,
   "id": "a6170074-b382-41a3-a3bf-312aebfc6b81",
   "metadata": {},
   "outputs": [
    {
     "data": {
      "text/plain": [
       "1×4 Matrix{Float64}:\n",
       " 64578.0  70.12  3231.03  0.12185"
      ]
     },
     "execution_count": 6,
     "metadata": {},
     "output_type": "execute_result"
    }
   ],
   "source": [
    "#Variable imports\n",
    "bid_price_df = bid_price()\n",
    "ask_price_df = ask_price()\n",
    "similarity = similarityfactor()"
   ]
  },
  {
   "cell_type": "code",
   "execution_count": 3,
   "id": "0df8debe-9f49-4598-8e71-492d5dff4594",
   "metadata": {},
   "outputs": [
    {
     "data": {
      "text/html": [
       "<div><div style = \"float: left;\"><span>10×7 DataFrame</span></div><div style = \"clear: both;\"></div></div><div class = \"data-frame\" style = \"overflow-x: scroll;\"><table class = \"data-frame\" style = \"margin-bottom: 6px;\"><thead><tr class = \"header\"><th class = \"rowNumber\" style = \"font-weight: bold; text-align: right;\">Row</th><th style = \"text-align: left;\">update_id</th><th style = \"text-align: left;\">best_bid_price</th><th style = \"text-align: left;\">best_bid_qty</th><th style = \"text-align: left;\">best_ask_price</th><th style = \"text-align: left;\">best_ask_qty</th><th style = \"text-align: left;\">transaction_time</th><th style = \"text-align: left;\">event_time</th></tr><tr class = \"subheader headerLastRow\"><th class = \"rowNumber\" style = \"font-weight: bold; text-align: right;\"></th><th title = \"Float64\" style = \"text-align: left;\">Float64</th><th title = \"Float64\" style = \"text-align: left;\">Float64</th><th title = \"Int64\" style = \"text-align: left;\">Int64</th><th title = \"Float64\" style = \"text-align: left;\">Float64</th><th title = \"Int64\" style = \"text-align: left;\">Int64</th><th title = \"Float64\" style = \"text-align: left;\">Float64</th><th title = \"Float64\" style = \"text-align: left;\">Float64</th></tr></thead><tbody><tr><td class = \"rowNumber\" style = \"font-weight: bold; text-align: right;\">1</td><td style = \"text-align: right;\">9.9843e11</td><td style = \"text-align: right;\">3231.03</td><td style = \"text-align: right;\">17444</td><td style = \"text-align: right;\">3231.04</td><td style = \"text-align: right;\">17179</td><td style = \"text-align: right;\">1.72247e12</td><td style = \"text-align: right;\">1.72247e12</td></tr><tr><td class = \"rowNumber\" style = \"font-weight: bold; text-align: right;\">2</td><td style = \"text-align: right;\">9.9843e11</td><td style = \"text-align: right;\">3231.03</td><td style = \"text-align: right;\">17515</td><td style = \"text-align: right;\">3231.04</td><td style = \"text-align: right;\">17179</td><td style = \"text-align: right;\">1.72247e12</td><td style = \"text-align: right;\">1.72247e12</td></tr><tr><td class = \"rowNumber\" style = \"font-weight: bold; text-align: right;\">3</td><td style = \"text-align: right;\">9.9843e11</td><td style = \"text-align: right;\">3231.03</td><td style = \"text-align: right;\">17515</td><td style = \"text-align: right;\">3231.04</td><td style = \"text-align: right;\">17152</td><td style = \"text-align: right;\">1.72247e12</td><td style = \"text-align: right;\">1.72247e12</td></tr><tr><td class = \"rowNumber\" style = \"font-weight: bold; text-align: right;\">4</td><td style = \"text-align: right;\">9.9843e11</td><td style = \"text-align: right;\">3231.03</td><td style = \"text-align: right;\">17546</td><td style = \"text-align: right;\">3231.04</td><td style = \"text-align: right;\">17152</td><td style = \"text-align: right;\">1.72247e12</td><td style = \"text-align: right;\">1.72247e12</td></tr><tr><td class = \"rowNumber\" style = \"font-weight: bold; text-align: right;\">5</td><td style = \"text-align: right;\">9.9843e11</td><td style = \"text-align: right;\">3231.03</td><td style = \"text-align: right;\">17475</td><td style = \"text-align: right;\">3231.04</td><td style = \"text-align: right;\">17152</td><td style = \"text-align: right;\">1.72247e12</td><td style = \"text-align: right;\">1.72247e12</td></tr><tr><td class = \"rowNumber\" style = \"font-weight: bold; text-align: right;\">6</td><td style = \"text-align: right;\">9.9843e11</td><td style = \"text-align: right;\">3231.03</td><td style = \"text-align: right;\">17475</td><td style = \"text-align: right;\">3231.04</td><td style = \"text-align: right;\">17652</td><td style = \"text-align: right;\">1.72247e12</td><td style = \"text-align: right;\">1.72247e12</td></tr><tr><td class = \"rowNumber\" style = \"font-weight: bold; text-align: right;\">7</td><td style = \"text-align: right;\">9.9843e11</td><td style = \"text-align: right;\">3231.03</td><td style = \"text-align: right;\">17475</td><td style = \"text-align: right;\">3231.04</td><td style = \"text-align: right;\">17991</td><td style = \"text-align: right;\">1.72247e12</td><td style = \"text-align: right;\">1.72247e12</td></tr><tr><td class = \"rowNumber\" style = \"font-weight: bold; text-align: right;\">8</td><td style = \"text-align: right;\">9.9843e11</td><td style = \"text-align: right;\">3231.03</td><td style = \"text-align: right;\">17475</td><td style = \"text-align: right;\">3231.04</td><td style = \"text-align: right;\">17990</td><td style = \"text-align: right;\">1.72247e12</td><td style = \"text-align: right;\">1.72247e12</td></tr><tr><td class = \"rowNumber\" style = \"font-weight: bold; text-align: right;\">9</td><td style = \"text-align: right;\">9.9843e11</td><td style = \"text-align: right;\">3231.03</td><td style = \"text-align: right;\">17475</td><td style = \"text-align: right;\">3231.04</td><td style = \"text-align: right;\">17599</td><td style = \"text-align: right;\">1.72247e12</td><td style = \"text-align: right;\">1.72247e12</td></tr><tr><td class = \"rowNumber\" style = \"font-weight: bold; text-align: right;\">10</td><td style = \"text-align: right;\">9.9843e11</td><td style = \"text-align: right;\">3231.03</td><td style = \"text-align: right;\">17406</td><td style = \"text-align: right;\">3231.04</td><td style = \"text-align: right;\">17599</td><td style = \"text-align: right;\">1.72247e12</td><td style = \"text-align: right;\">1.72247e12</td></tr></tbody></table></div>"
      ],
      "text/latex": [
       "\\begin{tabular}{r|ccccccc}\n",
       "\t& update\\_id & best\\_bid\\_price & best\\_bid\\_qty & best\\_ask\\_price & best\\_ask\\_qty & transaction\\_time & \\\\\n",
       "\t\\hline\n",
       "\t& Float64 & Float64 & Int64 & Float64 & Int64 & Float64 & \\\\\n",
       "\t\\hline\n",
       "\t1 & 9.9843e11 & 3231.03 & 17444 & 3231.04 & 17179 & 1.72247e12 & $\\dots$ \\\\\n",
       "\t2 & 9.9843e11 & 3231.03 & 17515 & 3231.04 & 17179 & 1.72247e12 & $\\dots$ \\\\\n",
       "\t3 & 9.9843e11 & 3231.03 & 17515 & 3231.04 & 17152 & 1.72247e12 & $\\dots$ \\\\\n",
       "\t4 & 9.9843e11 & 3231.03 & 17546 & 3231.04 & 17152 & 1.72247e12 & $\\dots$ \\\\\n",
       "\t5 & 9.9843e11 & 3231.03 & 17475 & 3231.04 & 17152 & 1.72247e12 & $\\dots$ \\\\\n",
       "\t6 & 9.9843e11 & 3231.03 & 17475 & 3231.04 & 17652 & 1.72247e12 & $\\dots$ \\\\\n",
       "\t7 & 9.9843e11 & 3231.03 & 17475 & 3231.04 & 17991 & 1.72247e12 & $\\dots$ \\\\\n",
       "\t8 & 9.9843e11 & 3231.03 & 17475 & 3231.04 & 17990 & 1.72247e12 & $\\dots$ \\\\\n",
       "\t9 & 9.9843e11 & 3231.03 & 17475 & 3231.04 & 17599 & 1.72247e12 & $\\dots$ \\\\\n",
       "\t10 & 9.9843e11 & 3231.03 & 17406 & 3231.04 & 17599 & 1.72247e12 & $\\dots$ \\\\\n",
       "\\end{tabular}\n"
      ],
      "text/plain": [
       "\u001b[1m10×7 DataFrame\u001b[0m\n",
       "\u001b[1m Row \u001b[0m│\u001b[1m update_id \u001b[0m\u001b[1m best_bid_price \u001b[0m\u001b[1m best_bid_qty \u001b[0m\u001b[1m best_ask_price \u001b[0m\u001b[1m best_ask_qty \u001b[0m\u001b[1m \u001b[0m ⋯\n",
       "     │\u001b[90m Float64   \u001b[0m\u001b[90m Float64        \u001b[0m\u001b[90m Int64        \u001b[0m\u001b[90m Float64        \u001b[0m\u001b[90m Int64        \u001b[0m\u001b[90m \u001b[0m ⋯\n",
       "─────┼──────────────────────────────────────────────────────────────────────────\n",
       "   1 │ 9.9843e11         3231.03         17444         3231.04         17179   ⋯\n",
       "   2 │ 9.9843e11         3231.03         17515         3231.04         17179\n",
       "   3 │ 9.9843e11         3231.03         17515         3231.04         17152\n",
       "   4 │ 9.9843e11         3231.03         17546         3231.04         17152\n",
       "   5 │ 9.9843e11         3231.03         17475         3231.04         17152   ⋯\n",
       "   6 │ 9.9843e11         3231.03         17475         3231.04         17652\n",
       "   7 │ 9.9843e11         3231.03         17475         3231.04         17991\n",
       "   8 │ 9.9843e11         3231.03         17475         3231.04         17990\n",
       "   9 │ 9.9843e11         3231.03         17475         3231.04         17599   ⋯\n",
       "  10 │ 9.9843e11         3231.03         17406         3231.04         17599\n",
       "\u001b[36m                                                               2 columns omitted\u001b[0m"
      ]
     },
     "execution_count": 3,
     "metadata": {},
     "output_type": "execute_result"
    }
   ],
   "source": [
    "#Read in asset-level prices\n",
    "#btcdcf = CSV.read(\"btc_book-2024-08-01-trimmed.csv\", DataFrame)\n",
    "#dgcdcf = CSV.read(\"dgc_book-2024-08-01-trimmed.csv\", DataFrame)\n",
    "#ltcdcf = CSV.read(\"ltc_book-2024-08-01-trimmed.csv\", DataFrame)\n",
    "#ethdcf = CSV.read(\"eth_book-2024-08-01-trimmed.csv\", DataFrame)\n"
   ]
  },
  {
   "cell_type": "code",
   "execution_count": 4,
   "id": "30217c94-e45a-4d28-9f1c-cf9aa03fdee1",
   "metadata": {
    "scrolled": true
   },
   "outputs": [],
   "source": [
    "#show(btcdcf,allcols = true)\n",
    "#show(dgcdcf,allcols = true)\n",
    "#show(ltcdcf,allcols = true)\n",
    "#show(ethdcf,allcols = true)"
   ]
  },
  {
   "cell_type": "code",
   "execution_count": 5,
   "id": "bd603494-342e-4c59-93e9-eb33f78111bf",
   "metadata": {},
   "outputs": [
    {
     "data": {
      "text/html": [
       "<div><div style = \"float: left;\"><span>10×5 DataFrame</span></div><div style = \"clear: both;\"></div></div><div class = \"data-frame\" style = \"overflow-x: scroll;\"><table class = \"data-frame\" style = \"margin-bottom: 6px;\"><thead><tr class = \"header\"><th class = \"rowNumber\" style = \"font-weight: bold; text-align: right;\">Row</th><th style = \"text-align: left;\">best_bid_price</th><th style = \"text-align: left;\">best_ask_price</th><th style = \"text-align: left;\">best_ask_qty</th><th style = \"text-align: left;\">best_bid_qty</th><th style = \"text-align: left;\">event_time</th></tr><tr class = \"subheader headerLastRow\"><th class = \"rowNumber\" style = \"font-weight: bold; text-align: right;\"></th><th title = \"Float64\" style = \"text-align: left;\">Float64</th><th title = \"Float64\" style = \"text-align: left;\">Float64</th><th title = \"Int64\" style = \"text-align: left;\">Int64</th><th title = \"Int64\" style = \"text-align: left;\">Int64</th><th title = \"Float64\" style = \"text-align: left;\">Float64</th></tr></thead><tbody><tr><td class = \"rowNumber\" style = \"font-weight: bold; text-align: right;\">1</td><td style = \"text-align: right;\">0.12185</td><td style = \"text-align: right;\">0.12186</td><td style = \"text-align: right;\">1141</td><td style = \"text-align: right;\">1094</td><td style = \"text-align: right;\">1.72247e12</td></tr><tr><td class = \"rowNumber\" style = \"font-weight: bold; text-align: right;\">2</td><td style = \"text-align: right;\">0.12185</td><td style = \"text-align: right;\">0.12186</td><td style = \"text-align: right;\">1141</td><td style = \"text-align: right;\">1057</td><td style = \"text-align: right;\">1.72247e12</td></tr><tr><td class = \"rowNumber\" style = \"font-weight: bold; text-align: right;\">3</td><td style = \"text-align: right;\">0.12185</td><td style = \"text-align: right;\">0.12186</td><td style = \"text-align: right;\">1132</td><td style = \"text-align: right;\">1057</td><td style = \"text-align: right;\">1.72247e12</td></tr><tr><td class = \"rowNumber\" style = \"font-weight: bold; text-align: right;\">4</td><td style = \"text-align: right;\">0.12185</td><td style = \"text-align: right;\">0.12186</td><td style = \"text-align: right;\">1093</td><td style = \"text-align: right;\">1057</td><td style = \"text-align: right;\">1.72247e12</td></tr><tr><td class = \"rowNumber\" style = \"font-weight: bold; text-align: right;\">5</td><td style = \"text-align: right;\">0.12185</td><td style = \"text-align: right;\">0.12186</td><td style = \"text-align: right;\">1125</td><td style = \"text-align: right;\">1057</td><td style = \"text-align: right;\">1.72247e12</td></tr><tr><td class = \"rowNumber\" style = \"font-weight: bold; text-align: right;\">6</td><td style = \"text-align: right;\">0.12185</td><td style = \"text-align: right;\">0.12186</td><td style = \"text-align: right;\">1065</td><td style = \"text-align: right;\">1057</td><td style = \"text-align: right;\">1.72247e12</td></tr><tr><td class = \"rowNumber\" style = \"font-weight: bold; text-align: right;\">7</td><td style = \"text-align: right;\">0.12185</td><td style = \"text-align: right;\">0.12186</td><td style = \"text-align: right;\">1033</td><td style = \"text-align: right;\">1057</td><td style = \"text-align: right;\">1.72247e12</td></tr><tr><td class = \"rowNumber\" style = \"font-weight: bold; text-align: right;\">8</td><td style = \"text-align: right;\">0.12185</td><td style = \"text-align: right;\">0.12186</td><td style = \"text-align: right;\">1067</td><td style = \"text-align: right;\">1057</td><td style = \"text-align: right;\">1.72247e12</td></tr><tr><td class = \"rowNumber\" style = \"font-weight: bold; text-align: right;\">9</td><td style = \"text-align: right;\">0.12185</td><td style = \"text-align: right;\">0.12186</td><td style = \"text-align: right;\">1058</td><td style = \"text-align: right;\">1057</td><td style = \"text-align: right;\">1.72247e12</td></tr><tr><td class = \"rowNumber\" style = \"font-weight: bold; text-align: right;\">10</td><td style = \"text-align: right;\">0.12185</td><td style = \"text-align: right;\">0.12186</td><td style = \"text-align: right;\">1058</td><td style = \"text-align: right;\">1352</td><td style = \"text-align: right;\">1.72247e12</td></tr></tbody></table></div>"
      ],
      "text/latex": [
       "\\begin{tabular}{r|ccccc}\n",
       "\t& best\\_bid\\_price & best\\_ask\\_price & best\\_ask\\_qty & best\\_bid\\_qty & event\\_time\\\\\n",
       "\t\\hline\n",
       "\t& Float64 & Float64 & Int64 & Int64 & Float64\\\\\n",
       "\t\\hline\n",
       "\t1 & 0.12185 & 0.12186 & 1141 & 1094 & 1.72247e12 \\\\\n",
       "\t2 & 0.12185 & 0.12186 & 1141 & 1057 & 1.72247e12 \\\\\n",
       "\t3 & 0.12185 & 0.12186 & 1132 & 1057 & 1.72247e12 \\\\\n",
       "\t4 & 0.12185 & 0.12186 & 1093 & 1057 & 1.72247e12 \\\\\n",
       "\t5 & 0.12185 & 0.12186 & 1125 & 1057 & 1.72247e12 \\\\\n",
       "\t6 & 0.12185 & 0.12186 & 1065 & 1057 & 1.72247e12 \\\\\n",
       "\t7 & 0.12185 & 0.12186 & 1033 & 1057 & 1.72247e12 \\\\\n",
       "\t8 & 0.12185 & 0.12186 & 1067 & 1057 & 1.72247e12 \\\\\n",
       "\t9 & 0.12185 & 0.12186 & 1058 & 1057 & 1.72247e12 \\\\\n",
       "\t10 & 0.12185 & 0.12186 & 1058 & 1352 & 1.72247e12 \\\\\n",
       "\\end{tabular}\n"
      ],
      "text/plain": [
       "\u001b[1m10×5 DataFrame\u001b[0m\n",
       "\u001b[1m Row \u001b[0m│\u001b[1m best_bid_price \u001b[0m\u001b[1m best_ask_price \u001b[0m\u001b[1m best_ask_qty \u001b[0m\u001b[1m best_bid_qty \u001b[0m\u001b[1m event_time \u001b[0m\n",
       "     │\u001b[90m Float64        \u001b[0m\u001b[90m Float64        \u001b[0m\u001b[90m Int64        \u001b[0m\u001b[90m Int64        \u001b[0m\u001b[90m Float64    \u001b[0m\n",
       "─────┼────────────────────────────────────────────────────────────────────────\n",
       "   1 │        0.12185         0.12186          1141          1094  1.72247e12\n",
       "   2 │        0.12185         0.12186          1141          1057  1.72247e12\n",
       "   3 │        0.12185         0.12186          1132          1057  1.72247e12\n",
       "   4 │        0.12185         0.12186          1093          1057  1.72247e12\n",
       "   5 │        0.12185         0.12186          1125          1057  1.72247e12\n",
       "   6 │        0.12185         0.12186          1065          1057  1.72247e12\n",
       "   7 │        0.12185         0.12186          1033          1057  1.72247e12\n",
       "   8 │        0.12185         0.12186          1067          1057  1.72247e12\n",
       "   9 │        0.12185         0.12186          1058          1057  1.72247e12\n",
       "  10 │        0.12185         0.12186          1058          1352  1.72247e12"
      ]
     },
     "execution_count": 5,
     "metadata": {},
     "output_type": "execute_result"
    }
   ],
   "source": [
    "#trim dataframes for price/correlation variable calculation \n",
    "#btcdf_trimmed = (select(btcdcf,[:\"best_bid_price\",:\"best_ask_price\",:\"best_ask_qty\",:\"best_bid_qty\",:\"event_time\"]))[1:10,1:5]\n",
    "#ltcdf_trimmed = (select(ltcdcf,[:\"best_bid_price\",:\"best_ask_price\",:\"best_ask_qty\",:\"best_bid_qty\",:\"event_time\"]))[1:10,1:5]\n",
    "#ethdf_trimmed = (select(ethdcf,[:\"best_bid_price\",:\"best_ask_price\",:\"best_ask_qty\",:\"best_bid_qty\",:\"event_time\"]))[1:10,1:5]\n",
    "#dgcdf_trimmed = (select(dgcdcf,[:\"best_bid_price\",:\"best_ask_price\",:\"best_ask_qty\",:\"best_bid_qty\",:\"event_time\"]))[1:10,1:5]"
   ]
  },
  {
   "cell_type": "code",
   "execution_count": 6,
   "id": "42d0ef58-5bcc-4008-af8a-ddd8e6a0c3a6",
   "metadata": {
    "scrolled": true
   },
   "outputs": [
    {
     "data": {
      "text/plain": [
       "10-element Vector{Float64}:\n",
       " 0.12185510514541387\n",
       " 0.12185519108280256\n",
       " 0.12185517131110093\n",
       " 0.12185508372093024\n",
       " 0.1218551558203483\n",
       " 0.12185501885014137\n",
       " 0.12185494258373206\n",
       " 0.12185502354048963\n",
       " 0.12185500236406618\n",
       " 0.12185439004149377"
      ]
     },
     "execution_count": 6,
     "metadata": {},
     "output_type": "execute_result"
    }
   ],
   "source": [
    "#btcdf_trimmed[!, \"total_quantity\"] = btcdf_trimmed[!,\"best_ask_qty\"]+ btcdf_trimmed[!,\"best_bid_qty\"]\n",
    "#btcdf_trimmed[!, \"weighted_avg_price\"] = ((btcdf_trimmed[!,\"best_ask_qty\"].*btcdf_trimmed[!,\"best_ask_price\"]) + (btcdf_trimmed[!,\"best_bid_qty\"].*btcdf_trimmed[!,\"best_bid_price\"]))./btcdf_trimmed[!, \"total_quantity\"]\n",
    "\n",
    "#ethdf_trimmed[!, \"total_quantity\"] = ethdf_trimmed[!,\"best_ask_qty\"]+ ethdf_trimmed[!,\"best_bid_qty\"]\n",
    "#ethdf_trimmed[!, \"weighted_avg_price\"] = ((ethdf_trimmed[!,\"best_ask_qty\"].*ethdf_trimmed[!,\"best_ask_price\"]) + (ethdf_trimmed[!,\"best_bid_qty\"].*ethdf_trimmed[!,\"best_bid_price\"]))./ethdf_trimmed[!, \"total_quantity\"]\n",
    "\n",
    "#ltcdf_trimmed[!, \"total_quantity\"] = ltcdf_trimmed[!,\"best_ask_qty\"]+ ltcdf_trimmed[!,\"best_bid_qty\"]\n",
    "#ltcdf_trimmed[!, \"weighted_avg_price\"] = ((ltcdf_trimmed[!,\"best_ask_qty\"].*ltcdf_trimmed[!,\"best_ask_price\"]) + (ltcdf_trimmed[!,\"best_bid_qty\"].*ltcdf_trimmed[!,\"best_bid_price\"]))./ltcdf_trimmed[!, \"total_quantity\"]\n",
    "\n",
    "#dgcdf_trimmed[!, \"total_quantity\"] = dgcdf_trimmed[!,\"best_ask_qty\"]+ dgcdf_trimmed[!,\"best_bid_qty\"]\n",
    "#dgcdf_trimmed[!, \"weighted_avg_price\"] = ((dgcdf_trimmed[!,\"best_ask_qty\"].*dgcdf_trimmed[!,\"best_ask_price\"]) + (dgcdf_trimmed[!,\"best_bid_qty\"].*dgcdf_trimmed[!,\"best_bid_price\"]))./dgcdf_trimmed[!, \"total_quantity\"]"
   ]
  },
  {
   "cell_type": "code",
   "execution_count": 7,
   "id": "a7fe0982-e75f-43b4-b4ca-0ff45831dfbe",
   "metadata": {},
   "outputs": [
    {
     "data": {
      "text/plain": [
       "10-element Vector{Float64}:\n",
       " 0.12185510514541387\n",
       " 0.12185519108280256\n",
       " 0.12185517131110093\n",
       " 0.12185508372093024\n",
       " 0.1218551558203483\n",
       " 0.12185501885014137\n",
       " 0.12185494258373206\n",
       " 0.12185502354048963\n",
       " 0.12185500236406618\n",
       " 0.12185439004149377"
      ]
     },
     "execution_count": 7,
     "metadata": {},
     "output_type": "execute_result"
    }
   ],
   "source": [
    "#btc_prices = (select(btcdf_trimmed,[:\"weighted_avg_price\",:\"event_time\"]))[1:1000000,1:2]\n",
    "#ltc_prices = (select(ltcdf_trimmed,[:\"weighted_avg_price\",:\"event_time\"]))[1:1000000,1:2]\n",
    "#eth_prices = (select(ethdf_trimmed,[:\"weighted_avg_price\",:\"event_time\"]))[1:1000000,1:2]\n",
    "#dgc_prices = (select(dgcdf_trimmed,[:\"weighted_avg_price\",:\"event_time\"]))[1:1000000,1:2]\n",
    "\n",
    "#btc_prices = (select(btcdf_trimmed,[:\"weighted_avg_price\"]))[1:10,1]\n",
    "#ltc_prices = (select(ltcdf_trimmed,[:\"weighted_avg_price\"]))[1:10,1]\n",
    "#eth_prices = (select(ethdf_trimmed,[:\"weighted_avg_price\"]))[1:10,1]\n",
    "#dgc_prices = (select(dgcdf_trimmed,[:\"weighted_avg_price\"]))[1:10,1]"
   ]
  },
  {
   "cell_type": "code",
   "execution_count": 8,
   "id": "a694ce05-6796-49a2-b638-dae5c454f2a7",
   "metadata": {},
   "outputs": [
    {
     "data": {
      "text/plain": [
       "dtwfn (generic function with 1 method)"
      ]
     },
     "execution_count": 8,
     "metadata": {},
     "output_type": "execute_result"
    }
   ],
   "source": [
    "#function dtwfn(seq1, seq2)\n",
    "#    n = length(seq1)\n",
    "#    m = length(seq2)\n",
    "#    dtw_matrix = zeros(n, m)\n",
    "#    \n",
    "#    dtw_matrix[1, 1] = abs(seq1[1] - seq2[1])\n",
    "#    \n",
    "#    for i in 2:n\n",
    "#        dtw_matrix[i, 1] = abs(seq1[i] - seq2[1]) + dtw_matrix[i-1, 1]\n",
    "#    end\n",
    "#    \n",
    "#    for j in 2:m\n",
    "#        dtw_matrix[1, j] = abs(seq1[1] - seq2[j]) + dtw_matrix[1, j-1]\n",
    "#    end\n",
    "#    \n",
    "#    for i in 2:n\n",
    "#        for j in 2:m\n",
    "#            cost = abs(seq1[i] - seq2[j])\n",
    "#            dtw_matrix[i, j] = cost + min(dtw_matrix[i-1, j], dtw_matrix[i, j-1], dtw_matrix[i-1, j-1])\n",
    "#        end\n",
    "#    end\n",
    "#    \n",
    "#    return dtw_matrix[n, m]\n",
    "#end"
   ]
  },
  {
   "cell_type": "code",
   "execution_count": 9,
   "id": "cc6c215d-9063-4445-93ef-02db688a18c6",
   "metadata": {},
   "outputs": [
    {
     "data": {
      "text/plain": [
       "1×4 Matrix{Vector{Float64}}:\n",
       " [64578.1, 64578.1, 64578.1, 64578.1, 64578.1, 64578.1, 64578.1, 64578.1, 64578.1, 64578.1]  …  [0.121855, 0.121855, 0.121855, 0.121855, 0.121855, 0.121855, 0.121855, 0.121855, 0.121855, 0.121854]"
      ]
     },
     "metadata": {},
     "output_type": "display_data"
    },
    {
     "data": {
      "text/plain": [
       "4×4 Symmetric{Float64, Matrix{Float64}}:\n",
       " 0.0            6.4508e5      6.13471e5      6.4578e5\n",
       " 6.4508e5       0.0       31609.1          700.04\n",
       " 6.13471e5  31609.1           0.0        32309.1\n",
       " 6.4578e5     700.04      32309.1            0.0"
      ]
     },
     "metadata": {},
     "output_type": "display_data"
    },
    {
     "data": {
      "text/plain": [
       "1×4 Matrix{Float64}:\n",
       " 64578.0  70.12  3231.03  0.12185"
      ]
     },
     "execution_count": 9,
     "metadata": {},
     "output_type": "execute_result"
    }
   ],
   "source": [
    "#Create 2d array of prices for weight calculation\n",
    "#twoddf = [[btc_prices] [ltc_prices] [eth_prices] [dgc_prices]]\n",
    "#display(twoddf)\n",
    "#Create matrix of dynamic-time-warping distances between variables for weight calculation\n",
    "#similarity = zeros(4,4)\n",
    "#for ii in 1:4\n",
    "#    for j in (ii+1):4\n",
    "#        similarity[ii,j]= dtwfn(twoddf[ii],twoddf[j])\n",
    "#    end\n",
    "#end\n",
    "#similarity = LinearAlgebra.Symmetric(similarity)\n",
    "#display(similarity)\n",
    "\n",
    "#Create array of last bid and ask prices for each asset\n",
    "#ask_price_df = [[last(btcdf_trimmed[!,\"best_ask_price\"])] [last(ltcdf_trimmed[!,\"best_ask_price\"])] [last(ethdf_trimmed[!,\"best_ask_price\"])] [last(dgcdf_trimmed[!,\"best_ask_price\"])]]\n",
    "#bid_price_df = [[last(btcdf_trimmed[!,\"best_bid_price\"])] [last(ltcdf_trimmed[!,\"best_bid_price\"])] [last(ethdf_trimmed[!,\"best_bid_price\"])] [last(dgcdf_trimmed[!,\"best_bid_price\"])]]\n"
   ]
  },
  {
   "cell_type": "code",
   "execution_count": 10,
   "id": "db25faf7-d4ba-47c8-b2b8-943685da2731",
   "metadata": {},
   "outputs": [],
   "source": [
    "function costfunct(x)\n",
    "    summed_cost = 0\n",
    "    for i in 1:4\n",
    "        for j in 1:4\n",
    "            summed_cost += similarity[i,j]*(ask_price_df[j] - bid_price_df[i])*x[i,j]\n",
    "        end\n",
    "    end\n",
    "return summed_cost\n",
    "end\n",
    "\n",
    "\n",
    "function penaltyfunctt1(x)\n",
    "    summed_penalty = 0\n",
    "    for i in 1:4\n",
    "        for j in 1:4\n",
    "            for jprime in (j+1):4\n",
    "                summed_penalty+=x[i,j]*x[i,jprime]\n",
    "            end\n",
    "        end\n",
    "    end\n",
    "return summed_penalty\n",
    "end\n",
    "\n",
    "\n",
    "function penaltyfunctt2(x)\n",
    "    summed_penalty = 0\n",
    "    for j in 1:4\n",
    "        for i in 1:4\n",
    "            for iprime = (i+1):4\n",
    "                summed_penalty+=x[i,j]*x[iprime,j]\n",
    "            end\n",
    "        end\n",
    "    end\n",
    "    return summed_penalty\n",
    "end\n",
    "\n",
    "\n",
    "function penaltyfunctt3(x)\n",
    "    summed_penalty = 0\n",
    "    for i in 1:4\n",
    "        for j in 1:4\n",
    "            summed_penalty += (x[i,j] - x[j,i])^2\n",
    "        end\n",
    "    end\n",
    "return summed_penalty\n",
    "end\n",
    "\n",
    "function penaltyfunctt4(x)\n",
    "    summed_penalty = 0\n",
    "    for i in 1:4\n",
    "        for j in 1:4\n",
    "            summed_penalty += x[i,j]*x[j,i]\n",
    "        end\n",
    "    end\n",
    "return summed_penalty\n",
    "end\n",
    "\n",
    "#Set hyperparameters\n",
    "mc = 1\n",
    "mp = 1\n",
    "\n",
    "#set summed_cost parameter to 0 as initial value\n",
    "summed_cost = 0;\n",
    "summed_penalty = 0;\n",
    "\n",
    "#Initialize our model:\n",
    "pairs_trading_model = JuMP.Model(() -> AmplNLWriter.Optimizer(\"octeract-engine\"))\n",
    "\n",
    "@variable(pairs_trading_model, x[i= 1:4, j=1:4], Bin)\n",
    "\n",
    "@objective(pairs_trading_model, Min, costfunct(x)*mc + (penaltyfunctt1(x) + penaltyfunctt2(x) + penaltyfunctt3(x) + penaltyfunctt4(x))*mp)\n",
    "optimize!(pairs_trading_model)\n",
    "#@objective(pairs_trading_model, Min, costfunct*mc+(penaltyfunctt1+penaltyfunctt2+penaltyfunctt3+penaltyfunctt4)*mp)"
   ]
  },
  {
   "cell_type": "code",
   "execution_count": 11,
   "id": "5659ab9d-e17c-4c4d-b386-97b4bd83565a",
   "metadata": {},
   "outputs": [
    {
     "data": {
      "text/latex": [
       "$$ \\begin{aligned}\n",
       "\\min\\quad & x_{1,1}\\times x_{1,2} + x_{1,1}\\times x_{1,3} + x_{1,1}\\times x_{1,4} + x_{1,2}\\times x_{1,3} + x_{1,2}\\times x_{1,4} + x_{1,3}\\times x_{1,4} + x_{2,1}\\times x_{2,2} + x_{2,1}\\times x_{2,3} + x_{2,1}\\times x_{2,4} + x_{2,2}\\times x_{2,3} + x_{2,2}\\times x_{2,4} + x_{2,3}\\times x_{2,4} + x_{3,1}\\times x_{3,2} + x_{3,1}\\times x_{3,3} + x_{3,1}\\times x_{3,4} + x_{3,2}\\times x_{3,3} + x_{3,2}\\times x_{3,4} + x_{3,3}\\times x_{3,4} + x_{4,1}\\times x_{4,2} + x_{4,1}\\times x_{4,3} + x_{4,1}\\times x_{4,4} + x_{4,2}\\times x_{4,3} + x_{4,2}\\times x_{4,4} + x_{4,3}\\times x_{4,4} + x_{1,1}\\times x_{2,1} + x_{1,1}\\times x_{3,1} + x_{1,1}\\times x_{4,1} + x_{2,1}\\times x_{3,1} + x_{2,1}\\times x_{4,1} + x_{3,1}\\times x_{4,1} + [[\\ldots\\text{10 terms omitted}\\ldots]] + x_{2,3}\\times x_{4,3} + x_{3,3}\\times x_{4,3} + x_{1,4}\\times x_{2,4} + x_{1,4}\\times x_{3,4} + x_{1,4}\\times x_{4,4} + x_{2,4}\\times x_{3,4} + x_{2,4}\\times x_{4,4} + x_{3,4}\\times x_{4,4} + 2 x_{1,2}^2 - 2 x_{2,1}\\times x_{1,2} + 2 x_{2,1}^2 + 2 x_{1,3}^2 - 2 x_{3,1}\\times x_{1,3} + 2 x_{3,1}^2 + 2 x_{1,4}^2 - 2 x_{4,1}\\times x_{1,4} + 2 x_{4,1}^2 + 2 x_{2,3}^2 - 2 x_{3,2}\\times x_{2,3} + 2 x_{3,2}^2 + 2 x_{2,4}^2 - 2 x_{4,2}\\times x_{2,4} + 2 x_{4,2}^2 + 2 x_{3,4}^2 - 2 x_{4,3}\\times x_{3,4} + 2 x_{4,3}^2 + x_{1,1}^2 + x_{2,2}^2 + x_{3,3}^2 + x_{4,4}^2 - 4.1612718079166534e10 x_{1,2} - 3.763455751595193e10 x_{1,3} - 4.170308601862065e10 x_{1,4} + 4.161278903793464e10 x_{2,1} + 9.991380872388434e7 x_{2,3} - 49001.50983231168 x_{2,4} + 3.763462499772e10 x_{3,1} - 9.991317654205929e7 x_{3,2} - 1.0438783571168646e8 x_{3,4} + 4.1703150603053474e10 x_{4,1} + 49008.51723441439 x_{4,2} + 1.04388159126092e8 x_{4,3}\\\\\n",
       "\\text{Subject to} \\quad & x_{1,1} \\in \\{0, 1\\}\\\\\n",
       " & x_{2,1} \\in \\{0, 1\\}\\\\\n",
       " & x_{3,1} \\in \\{0, 1\\}\\\\\n",
       " & x_{4,1} \\in \\{0, 1\\}\\\\\n",
       " & x_{1,2} \\in \\{0, 1\\}\\\\\n",
       " & x_{2,2} \\in \\{0, 1\\}\\\\\n",
       " & x_{3,2} \\in \\{0, 1\\}\\\\\n",
       " & x_{4,2} \\in \\{0, 1\\}\\\\\n",
       " & x_{1,3} \\in \\{0, 1\\}\\\\\n",
       " & x_{2,3} \\in \\{0, 1\\}\\\\\n",
       " & x_{3,3} \\in \\{0, 1\\}\\\\\n",
       " & x_{4,3} \\in \\{0, 1\\}\\\\\n",
       " & x_{1,4} \\in \\{0, 1\\}\\\\\n",
       " & x_{2,4} \\in \\{0, 1\\}\\\\\n",
       " & x_{3,4} \\in \\{0, 1\\}\\\\\n",
       " & x_{4,4} \\in \\{0, 1\\}\\\\\n",
       "\\end{aligned} $$"
      ]
     },
     "metadata": {},
     "output_type": "display_data"
    },
    {
     "name": "stdout",
     "output_type": "stream",
     "text": [
      "* Solver : AmplNLWriter\n",
      "\n",
      "* Status\n",
      "  Result count       : 0\n",
      "  Termination status : OTHER_ERROR\n",
      "  Message from the solver:\n",
      "  \"Error calling the solver. Failed with: Base.IOError(\"could not spawn setenv(`octeract-engine /var/folders/9x/zgzyj9l153v5qjjz_hdvd31r0000gn/T/jl_x3XcwH/model.nl -AMPL`,[\\\"XPC_FLAGS=0x0\\\", \\\"LBT_DEFAULT_LIBS=/Users/peterhindi/.julia/juliaup/julia-1.10.2+0.x64.apple.darwin14/lib/julia/libopenblas64_.0.3.23.dylib;/Users/peterhindi/.julia/artifacts/023157501199a753608d8f4adf38a1147a2ad00e/lib/libopenblas.0.3.24.dylib\\\", \\\"PATH=/Users/peterhindi/.julia/juliaup/julia-1.10.2+0.x64.apple.darwin14/bin:/Users/peterhindi/.juliaup/bin:/Users/peterhindi/opt/anaconda3/bin:/Library/Frameworks/Python.framework/Versions/3.10/bin:/usr/local/bin:/usr/bin:/bin:/usr/sbin:/sbin:/Library/TeX/texbin:/usr/local/share/dotnet:/opt/X11/bin:~/.dotnet/tools:/Library/Frameworks/Mono.framework/Versions/Current/Commands\\\", \\\"PWD=/Users/peterhindi\\\", \\\"JPY_SESSION_NAME=/Users/peterhindi/Desktop/RAWork2/RAWork/Pairs-Trade Model.ipynb\\\", \\\"DISPLAY=/private/tmp/com.apple.launchd.X8ogj4SQjn/org.xquartz:0\\\", \\\"XPC_SERVICE_NAME=0\\\", \\\"TERM_PROGRAM=Apple_Terminal\\\", \\\"COLUMNS=80\\\", \\\"GRDIR=/Users/peterhindi/.julia/artifacts/4cab0d575711b60d292e4bd3088c55d27752a8ea\\\", \\\"SHELL=/bin/bash\\\", \\\"__CF_USER_TEXT_ENCODING=0x1F5:0x0:0x52\\\", \\\"JPY_PARENT_PID=8543\\\", \\\"__CFBundleIdentifier=com.apple.Terminal\\\", \\\"TMPDIR=/var/folders/9x/zgzyj9l153v5qjjz_hdvd31r0000gn/T/\\\", \\\"FONTCONFIG_PATH=/Users/peterhindi/.julia/artifacts/2b17f8eb5c0167b92ee1ef185a98606e9d27b75e/etc/fonts\\\", \\\"LANG=en_CA.UTF-8\\\", \\\"PS1=Do Not Write Here! \\\", \\\"SHLVL=1\\\", \\\"LOGNAME=peterhindi\\\", \\\"TERM_SESSION_ID=540D81F6-6C28-4E68-8B5F-8CFEEA343A56\\\", \\\"SSH_AUTH_SOCK=/private/tmp/com.apple.launchd.KtFLG2JcaP/Listeners\\\", \\\"PYDEVD_USE_FRAME_EVAL=NO\\\", \\\"FONTCONFIG_FILE=/Users/peterhindi/.julia/artifacts/2b17f8eb5c0167b92ee1ef185a98606e9d27b75e/etc/fonts/fonts.conf\\\", \\\"_=/Library/Frameworks/Python.framework/Versions/3.10/bin/jupyter\\\", \\\"OPENBLAS_DEFAULT_NUM_THREADS=1\\\", \\\"LINES=30\\\", \\\"USER=peterhindi\\\", \\\"TERM=xterm-256color\\\", \\\"HOME=/Users/peterhindi\\\", \\\"TERM_PROGRAM_VERSION=440\\\", \\\"OPENBLAS_MAIN_FREE=1\\\"]): no such file or directory (ENOENT)\", -2)\"\n",
      "\n",
      "* Candidate solution (result #1)\n",
      "  Primal status      : NO_SOLUTION\n",
      "  Dual status        : NO_SOLUTION\n",
      "\n",
      "* Work counters\n",
      "  Solve time (sec)   : 1.07665e-01\n",
      "false"
     ]
    }
   ],
   "source": [
    "print(pairs_trading_model)\n",
    "print(solution_summary(pairs_trading_model))\n",
    "print(is_solved_and_feasible(pairs_trading_model))"
   ]
  }
 ],
 "metadata": {
  "kernelspec": {
   "display_name": "Julia 1.10.2",
   "language": "julia",
   "name": "julia-1.10"
  },
  "language_info": {
   "file_extension": ".jl",
   "mimetype": "application/julia",
   "name": "julia",
   "version": "1.10.2"
  }
 },
 "nbformat": 4,
 "nbformat_minor": 5
}
