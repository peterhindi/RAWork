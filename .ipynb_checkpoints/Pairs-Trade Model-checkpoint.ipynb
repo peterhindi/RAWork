{
 "cells": [
  {
   "cell_type": "code",
   "execution_count": 4,
   "id": "c832c31a-6984-477b-ac45-d389b0e1ed0e",
   "metadata": {
    "scrolled": true
   },
   "outputs": [],
   "source": [
    "#Import packages\n",
    "using JuMP, Pkg, CSV, DataFrames, Statistics, Plots, Ipopt, Combinatorics, Distances, LinearAlgebra, AmplNLWriter, NBInclude\n"
   ]
  },
  {
   "cell_type": "code",
   "execution_count": 14,
   "id": "5571c713-3151-406c-8bc2-e6b71cf9389a",
   "metadata": {},
   "outputs": [
    {
     "data": {
      "text/plain": [
       "penaltyfunction (generic function with 1 method)"
      ]
     },
     "execution_count": 14,
     "metadata": {},
     "output_type": "execute_result"
    }
   ],
   "source": [
    "@nbinclude(\"Similarity Factor & Bid-Ask Prices.ipynb\")\n",
    "@nbinclude(\"Cost Function.ipynb\")\n",
    "@nbinclude(\"Penalty Function.ipynb\")\n",
    "#@nbinclude(\"Tabu List.ipynb\")\n"
   ]
  },
  {
   "cell_type": "code",
   "execution_count": 10,
   "id": "a6170074-b382-41a3-a3bf-312aebfc6b81",
   "metadata": {
    "scrolled": true
   },
   "outputs": [
    {
     "data": {
      "text/plain": [
       "costfunct (generic function with 1 method)"
      ]
     },
     "execution_count": 10,
     "metadata": {},
     "output_type": "execute_result"
    }
   ],
   "source": [
    "#Variable imports\n",
    "bid_price_df = bid_price()\n",
    "ask_price_df = ask_price()\n",
    "similarity = similarityfactor()"
   ]
  },
  {
   "cell_type": "code",
   "execution_count": 10,
   "id": "db25faf7-d4ba-47c8-b2b8-943685da2731",
   "metadata": {},
   "outputs": [],
   "source": [
    "#Set hyperparameters\n",
    "mc = 1\n",
    "mp = 1\n",
    "\n",
    "#set summed_cost parameter to 0 as initial value\n",
    "summed_cost = 0;\n",
    "summed_penalty = 0;\n",
    "\n",
    "#Initialize our model:\n",
    "pairs_trading_model = JuMP.Model(() -> AmplNLWriter.Optimizer(\"octeract-engine\"))\n",
    "\n",
    "@variable(pairs_trading_model, x[i= 1:4, j=1:4], Bin)\n",
    "\n",
    "@objective(pairs_trading_model, Min, costfunct(x)*mc + penaltyfunction(x)*mp)\n",
    "optimize!(pairs_trading_model)\n",
    "#@objective(pairs_trading_model, Min, costfunct*mc+(penaltyfunctt1+penaltyfunctt2+penaltyfunctt3+penaltyfunctt4)*mp)"
   ]
  },
  {
   "cell_type": "code",
   "execution_count": 11,
   "id": "5659ab9d-e17c-4c4d-b386-97b4bd83565a",
   "metadata": {},
   "outputs": [
    {
     "data": {
      "text/latex": [
       "$$ \\begin{aligned}\n",
       "\\min\\quad & x_{1,1}\\times x_{1,2} + x_{1,1}\\times x_{1,3} + x_{1,1}\\times x_{1,4} + x_{1,2}\\times x_{1,3} + x_{1,2}\\times x_{1,4} + x_{1,3}\\times x_{1,4} + x_{2,1}\\times x_{2,2} + x_{2,1}\\times x_{2,3} + x_{2,1}\\times x_{2,4} + x_{2,2}\\times x_{2,3} + x_{2,2}\\times x_{2,4} + x_{2,3}\\times x_{2,4} + x_{3,1}\\times x_{3,2} + x_{3,1}\\times x_{3,3} + x_{3,1}\\times x_{3,4} + x_{3,2}\\times x_{3,3} + x_{3,2}\\times x_{3,4} + x_{3,3}\\times x_{3,4} + x_{4,1}\\times x_{4,2} + x_{4,1}\\times x_{4,3} + x_{4,1}\\times x_{4,4} + x_{4,2}\\times x_{4,3} + x_{4,2}\\times x_{4,4} + x_{4,3}\\times x_{4,4} + x_{1,1}\\times x_{2,1} + x_{1,1}\\times x_{3,1} + x_{1,1}\\times x_{4,1} + x_{2,1}\\times x_{3,1} + x_{2,1}\\times x_{4,1} + x_{3,1}\\times x_{4,1} + [[\\ldots\\text{10 terms omitted}\\ldots]] + x_{2,3}\\times x_{4,3} + x_{3,3}\\times x_{4,3} + x_{1,4}\\times x_{2,4} + x_{1,4}\\times x_{3,4} + x_{1,4}\\times x_{4,4} + x_{2,4}\\times x_{3,4} + x_{2,4}\\times x_{4,4} + x_{3,4}\\times x_{4,4} + 2 x_{1,2}^2 - 2 x_{2,1}\\times x_{1,2} + 2 x_{2,1}^2 + 2 x_{1,3}^2 - 2 x_{3,1}\\times x_{1,3} + 2 x_{3,1}^2 + 2 x_{1,4}^2 - 2 x_{4,1}\\times x_{1,4} + 2 x_{4,1}^2 + 2 x_{2,3}^2 - 2 x_{3,2}\\times x_{2,3} + 2 x_{3,2}^2 + 2 x_{2,4}^2 - 2 x_{4,2}\\times x_{2,4} + 2 x_{4,2}^2 + 2 x_{3,4}^2 - 2 x_{4,3}\\times x_{3,4} + 2 x_{4,3}^2 + x_{1,1}^2 + x_{2,2}^2 + x_{3,3}^2 + x_{4,4}^2 - 4.1612718079166534e10 x_{1,2} - 3.763455751595193e10 x_{1,3} - 4.170308601862065e10 x_{1,4} + 4.161278903793464e10 x_{2,1} + 9.991380872388434e7 x_{2,3} - 49001.50983231168 x_{2,4} + 3.763462499772e10 x_{3,1} - 9.991317654205929e7 x_{3,2} - 1.0438783571168646e8 x_{3,4} + 4.1703150603053474e10 x_{4,1} + 49008.51723441439 x_{4,2} + 1.04388159126092e8 x_{4,3}\\\\\n",
       "\\text{Subject to} \\quad & x_{1,1} \\in \\{0, 1\\}\\\\\n",
       " & x_{2,1} \\in \\{0, 1\\}\\\\\n",
       " & x_{3,1} \\in \\{0, 1\\}\\\\\n",
       " & x_{4,1} \\in \\{0, 1\\}\\\\\n",
       " & x_{1,2} \\in \\{0, 1\\}\\\\\n",
       " & x_{2,2} \\in \\{0, 1\\}\\\\\n",
       " & x_{3,2} \\in \\{0, 1\\}\\\\\n",
       " & x_{4,2} \\in \\{0, 1\\}\\\\\n",
       " & x_{1,3} \\in \\{0, 1\\}\\\\\n",
       " & x_{2,3} \\in \\{0, 1\\}\\\\\n",
       " & x_{3,3} \\in \\{0, 1\\}\\\\\n",
       " & x_{4,3} \\in \\{0, 1\\}\\\\\n",
       " & x_{1,4} \\in \\{0, 1\\}\\\\\n",
       " & x_{2,4} \\in \\{0, 1\\}\\\\\n",
       " & x_{3,4} \\in \\{0, 1\\}\\\\\n",
       " & x_{4,4} \\in \\{0, 1\\}\\\\\n",
       "\\end{aligned} $$"
      ]
     },
     "metadata": {},
     "output_type": "display_data"
    },
    {
     "name": "stdout",
     "output_type": "stream",
     "text": [
      "* Solver : AmplNLWriter\n",
      "\n",
      "* Status\n",
      "  Result count       : 0\n",
      "  Termination status : OTHER_ERROR\n",
      "  Message from the solver:\n",
      "  \"Error calling the solver. Failed with: Base.IOError(\"could not spawn setenv(`octeract-engine /var/folders/9x/zgzyj9l153v5qjjz_hdvd31r0000gn/T/jl_x3XcwH/model.nl -AMPL`,[\\\"XPC_FLAGS=0x0\\\", \\\"LBT_DEFAULT_LIBS=/Users/peterhindi/.julia/juliaup/julia-1.10.2+0.x64.apple.darwin14/lib/julia/libopenblas64_.0.3.23.dylib;/Users/peterhindi/.julia/artifacts/023157501199a753608d8f4adf38a1147a2ad00e/lib/libopenblas.0.3.24.dylib\\\", \\\"PATH=/Users/peterhindi/.julia/juliaup/julia-1.10.2+0.x64.apple.darwin14/bin:/Users/peterhindi/.juliaup/bin:/Users/peterhindi/opt/anaconda3/bin:/Library/Frameworks/Python.framework/Versions/3.10/bin:/usr/local/bin:/usr/bin:/bin:/usr/sbin:/sbin:/Library/TeX/texbin:/usr/local/share/dotnet:/opt/X11/bin:~/.dotnet/tools:/Library/Frameworks/Mono.framework/Versions/Current/Commands\\\", \\\"PWD=/Users/peterhindi\\\", \\\"JPY_SESSION_NAME=/Users/peterhindi/Desktop/RAWork2/RAWork/Pairs-Trade Model.ipynb\\\", \\\"DISPLAY=/private/tmp/com.apple.launchd.X8ogj4SQjn/org.xquartz:0\\\", \\\"XPC_SERVICE_NAME=0\\\", \\\"TERM_PROGRAM=Apple_Terminal\\\", \\\"COLUMNS=80\\\", \\\"GRDIR=/Users/peterhindi/.julia/artifacts/4cab0d575711b60d292e4bd3088c55d27752a8ea\\\", \\\"SHELL=/bin/bash\\\", \\\"__CF_USER_TEXT_ENCODING=0x1F5:0x0:0x52\\\", \\\"JPY_PARENT_PID=8543\\\", \\\"__CFBundleIdentifier=com.apple.Terminal\\\", \\\"TMPDIR=/var/folders/9x/zgzyj9l153v5qjjz_hdvd31r0000gn/T/\\\", \\\"FONTCONFIG_PATH=/Users/peterhindi/.julia/artifacts/2b17f8eb5c0167b92ee1ef185a98606e9d27b75e/etc/fonts\\\", \\\"LANG=en_CA.UTF-8\\\", \\\"PS1=Do Not Write Here! \\\", \\\"SHLVL=1\\\", \\\"LOGNAME=peterhindi\\\", \\\"TERM_SESSION_ID=540D81F6-6C28-4E68-8B5F-8CFEEA343A56\\\", \\\"SSH_AUTH_SOCK=/private/tmp/com.apple.launchd.KtFLG2JcaP/Listeners\\\", \\\"PYDEVD_USE_FRAME_EVAL=NO\\\", \\\"FONTCONFIG_FILE=/Users/peterhindi/.julia/artifacts/2b17f8eb5c0167b92ee1ef185a98606e9d27b75e/etc/fonts/fonts.conf\\\", \\\"_=/Library/Frameworks/Python.framework/Versions/3.10/bin/jupyter\\\", \\\"OPENBLAS_DEFAULT_NUM_THREADS=1\\\", \\\"LINES=30\\\", \\\"USER=peterhindi\\\", \\\"TERM=xterm-256color\\\", \\\"HOME=/Users/peterhindi\\\", \\\"TERM_PROGRAM_VERSION=440\\\", \\\"OPENBLAS_MAIN_FREE=1\\\"]): no such file or directory (ENOENT)\", -2)\"\n",
      "\n",
      "* Candidate solution (result #1)\n",
      "  Primal status      : NO_SOLUTION\n",
      "  Dual status        : NO_SOLUTION\n",
      "\n",
      "* Work counters\n",
      "  Solve time (sec)   : 1.07665e-01\n",
      "false"
     ]
    }
   ],
   "source": [
    "print(pairs_trading_model)\n",
    "print(solution_summary(pairs_trading_model))\n",
    "print(is_solved_and_feasible(pairs_trading_model))"
   ]
  }
 ],
 "metadata": {
  "kernelspec": {
   "display_name": "Julia 1.10.2",
   "language": "julia",
   "name": "julia-1.10"
  },
  "language_info": {
   "file_extension": ".jl",
   "mimetype": "application/julia",
   "name": "julia",
   "version": "1.10.2"
  }
 },
 "nbformat": 4,
 "nbformat_minor": 5
}
