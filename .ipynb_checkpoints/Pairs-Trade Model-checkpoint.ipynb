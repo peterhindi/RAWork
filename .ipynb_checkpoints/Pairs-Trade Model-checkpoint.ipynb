{
 "cells": [
  {
   "cell_type": "code",
   "execution_count": 1,
   "id": "c832c31a-6984-477b-ac45-d389b0e1ed0e",
   "metadata": {
    "scrolled": true
   },
   "outputs": [],
   "source": [
    "#Import packages\n",
    "using JuMP, Pkg, CSV, DataFrames, Statistics, Plots, Ipopt, Combinatorics, Distances, LinearAlgebra, AmplNLWriter, NBInclude, Gurobi\n"
   ]
  },
  {
   "cell_type": "code",
   "execution_count": 2,
   "id": "5571c713-3151-406c-8bc2-e6b71cf9389a",
   "metadata": {},
   "outputs": [
    {
     "data": {
      "text/plain": [
       "penaltyfunction (generic function with 1 method)"
      ]
     },
     "execution_count": 2,
     "metadata": {},
     "output_type": "execute_result"
    }
   ],
   "source": [
    "@nbinclude(\"Similarity Factor & Bid-Ask Prices.ipynb\")\n",
    "@nbinclude(\"Cost Function.ipynb\")\n",
    "@nbinclude(\"Penalty Function.ipynb\")\n",
    "#@nbinclude(\"Tabu List.ipynb\")\n",
    "\n",
    "#import Pkg\n",
    "#Pkg.add(\"Gurobi_jll\")\n",
    "#import Gurobi_jll\n",
    "# Replace the contents xxxxx with your actual key\n",
    "#key = \"4c53e4cd-ca92-4a55-8d08-737065b61bfd\"\n",
    "#run(`$(Gurobi_jll.grbgetkey()) $key`)\n",
    "\n",
    "#import Pkg\n",
    "#Pkg.add(\"Gurobi\")"
   ]
  },
  {
   "cell_type": "code",
   "execution_count": 3,
   "id": "a6170074-b382-41a3-a3bf-312aebfc6b81",
   "metadata": {
    "scrolled": true
   },
   "outputs": [
    {
     "data": {
      "text/plain": [
       "4×4 Symmetric{Float64, Matrix{Float64}}:\n",
       " 0.0            6.4508e5      6.13471e5      6.4578e5\n",
       " 6.4508e5       0.0       31609.1          700.04\n",
       " 6.13471e5  31609.1           0.0        32309.1\n",
       " 6.4578e5     700.04      32309.1            0.0"
      ]
     },
     "execution_count": 3,
     "metadata": {},
     "output_type": "execute_result"
    }
   ],
   "source": [
    "#Variable imports\n",
    "bid_price_df = bid_price()\n",
    "ask_price_df = ask_price()\n",
    "similarity = similarityfactor()"
   ]
  },
  {
   "cell_type": "code",
   "execution_count": 10,
   "id": "db25faf7-d4ba-47c8-b2b8-943685da2731",
   "metadata": {},
   "outputs": [
    {
     "name": "stdout",
     "output_type": "stream",
     "text": [
      "Set parameter Username\n",
      "Academic license - for non-commercial use only - expires 2025-09-15\n",
      "Gurobi Optimizer version 11.0.2 build v11.0.2rc0 (mac64[x86] - Darwin 20.6.0 20G1426)\n",
      "\n",
      "CPU model: Intel(R) Core(TM) i5-8257U CPU @ 1.40GHz\n",
      "Thread count: 4 physical cores, 8 logical processors, using up to 8 threads\n",
      "\n",
      "Optimize a model with 0 rows, 16 columns and 0 nonzeros\n",
      "Model fingerprint: 0x0f7dc0c5\n",
      "Model has 70 quadratic objective terms\n",
      "Variable types: 0 continuous, 16 integer (16 binary)\n",
      "Coefficient statistics:\n",
      "  Matrix range     [0e+00, 0e+00]\n",
      "  Objective range  [5e+04, 4e+10]\n",
      "  QObjective range [2e+00, 4e+00]\n",
      "  Bounds range     [0e+00, 0e+00]\n",
      "  RHS range        [0e+00, 0e+00]\n",
      "Warning: Model contains large objective coefficients\n",
      "         Consider reformulating model or setting NumericFocus parameter\n",
      "         to avoid numerical issues.\n",
      "Found heuristic solution: objective 0.0000000\n",
      "Found heuristic solution: objective -1.21155e+11\n",
      "Presolve removed 0 rows and 16 columns\n",
      "Presolve time: 0.01s\n",
      "Presolve: All rows and columns removed\n",
      "\n",
      "Explored 0 nodes (0 simplex iterations) in 0.01 seconds (0.00 work units)\n",
      "Thread count was 1 (of 8 available processors)\n",
      "\n",
      "Solution count 2: -1.21155e+11 0 \n",
      "No other solutions better than -1.21155e+11\n",
      "\n",
      "Optimal solution found (tolerance 1.00e-04)\n",
      "Best objective -1.211547116075e+11, best bound -1.211547116075e+11, gap -0.0000%\n",
      "\n",
      "User-callback calls 87, time in user-callback 0.00 sec\n"
     ]
    },
    {
     "data": {
      "text/plain": [
       "* Solver : Gurobi\n",
       "\n",
       "* Status\n",
       "  Result count       : 2\n",
       "  Termination status : OPTIMAL\n",
       "  Message from the solver:\n",
       "  \"Model was solved to optimality (subject to tolerances), and an optimal solution is available.\"\n",
       "\n",
       "* Candidate solution (result #1)\n",
       "  Primal status      : FEASIBLE_POINT\n",
       "  Dual status        : NO_SOLUTION\n",
       "  Objective value    : -1.21155e+11\n",
       "  Objective bound    : -1.21155e+11\n",
       "  Relative gap       : -0.00000e+00\n",
       "  Dual objective value : -1.21155e+11\n",
       "  Primal solution :\n",
       "    x[1,1] : 0.00000e+00\n",
       "    x[1,2] : 1.00000e+00\n",
       "    x[1,3] : 1.00000e+00\n",
       "    x[1,4] : 1.00000e+00\n",
       "    x[2,1] : 0.00000e+00\n",
       "    x[2,2] : 0.00000e+00\n",
       "    x[2,3] : 0.00000e+00\n",
       "    x[2,4] : 1.00000e+00\n",
       "    x[3,1] : 0.00000e+00\n",
       "    x[3,2] : 1.00000e+00\n",
       "    x[3,3] : 0.00000e+00\n",
       "    x[3,4] : 1.00000e+00\n",
       "    x[4,1] : 0.00000e+00\n",
       "    x[4,2] : 0.00000e+00\n",
       "    x[4,3] : 0.00000e+00\n",
       "    x[4,4] : 0.00000e+00\n",
       "\n",
       "* Work counters\n",
       "  Solve time (sec)   : 1.27401e-02\n",
       "  Barrier iterations : 0\n",
       "  Node count         : 0\n"
      ]
     },
     "execution_count": 10,
     "metadata": {},
     "output_type": "execute_result"
    }
   ],
   "source": [
    "#Set hyperparameters\n",
    "mc = 1\n",
    "mp = 1\n",
    "\n",
    "#set summed_cost parameter to 0 as initial value\n",
    "summed_cost = 0;\n",
    "summed_penalty = 0;\n",
    "\n",
    "#Initialize our model:\n",
    "pairs_trading_model = Model(Gurobi.Optimizer)\n",
    "\n",
    "@variable(pairs_trading_model, x[i= 1:4, j=1:4], Bin)\n",
    "@objective(pairs_trading_model, Min, costfunct(x, similarity, ask_price_df, bid_price_df)*mc + penaltyfunction(x)*mp)\n",
    "optimize!(pairs_trading_model)\n",
    "solution_summary(pairs_trading_model; verbose = true)"
   ]
  },
  {
   "cell_type": "code",
   "execution_count": 5,
   "id": "5659ab9d-e17c-4c4d-b386-97b4bd83565a",
   "metadata": {},
   "outputs": [
    {
     "ename": "LoadError",
     "evalue": "UndefVarError: `pairs_trading_model` not defined",
     "output_type": "error",
     "traceback": [
      "UndefVarError: `pairs_trading_model` not defined",
      "",
      "Stacktrace:",
      " [1] top-level scope",
      "   @ In[5]:1"
     ]
    }
   ],
   "source": [
    "print(pairs_trading_model)\n",
    "print(solution_summary(pairs_trading_model))\n",
    "print(is_solved_and_feasible(pairs_trading_model))"
   ]
  }
 ],
 "metadata": {
  "kernelspec": {
   "display_name": "Julia 1.10.2",
   "language": "julia",
   "name": "julia-1.10"
  },
  "language_info": {
   "file_extension": ".jl",
   "mimetype": "application/julia",
   "name": "julia",
   "version": "1.10.2"
  }
 },
 "nbformat": 4,
 "nbformat_minor": 5
}
